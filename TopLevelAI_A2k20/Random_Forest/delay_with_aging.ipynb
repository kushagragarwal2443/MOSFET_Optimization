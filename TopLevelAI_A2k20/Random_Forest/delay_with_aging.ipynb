{
 "cells": [
  {
   "cell_type": "code",
   "execution_count": 1,
   "metadata": {},
   "outputs": [],
   "source": [
    "import pandas as pd\n",
    "from pandas import read_excel\n",
    "from keras.models import Sequential\n",
    "from keras.layers import Dense, Dropout\n",
    "from keras.optimizers import Adam\n",
    "from sklearn.preprocessing import MinMaxScaler\n",
    "from sklearn.preprocessing import StandardScaler\n",
    "from sklearn.metrics import r2_score\n",
    "from sklearn.utils import shuffle\n",
    "from sklearn.metrics import mean_squared_error \n",
    "import numpy as np\n",
    "from scipy.stats import pearsonr\n",
    "from scipy.stats import spearmanr\n",
    "import seaborn as sns\n",
    "import matplotlib.pyplot as plt\n",
    "from sklearn.ensemble import RandomForestRegressor\n",
    "from sklearn.tree import export_graphviz\n",
    "import pydot\n",
    "import matplotlib.pyplot as plt\n",
    "%matplotlib inline"
   ]
  },
  {
   "cell_type": "markdown",
   "metadata": {},
   "source": [
    "# Preprocessing"
   ]
  },
  {
   "cell_type": "code",
   "execution_count": 2,
   "metadata": {},
   "outputs": [
    {
     "data": {
      "text/html": [
       "<div>\n",
       "<style scoped>\n",
       "    .dataframe tbody tr th:only-of-type {\n",
       "        vertical-align: middle;\n",
       "    }\n",
       "\n",
       "    .dataframe tbody tr th {\n",
       "        vertical-align: top;\n",
       "    }\n",
       "\n",
       "    .dataframe thead th {\n",
       "        text-align: right;\n",
       "    }\n",
       "</style>\n",
       "<table border=\"1\" class=\"dataframe\">\n",
       "  <thead>\n",
       "    <tr style=\"text-align: right;\">\n",
       "      <th></th>\n",
       "      <th>yrs</th>\n",
       "      <th>temp</th>\n",
       "      <th>pvdd</th>\n",
       "      <th>cload</th>\n",
       "      <th>nbodyn</th>\n",
       "      <th>nsdp</th>\n",
       "      <th>nc0subn</th>\n",
       "      <th>toxpn</th>\n",
       "      <th>hfinp</th>\n",
       "      <th>ni0subp</th>\n",
       "      <th>...</th>\n",
       "      <th>nbodyp</th>\n",
       "      <th>hfinn</th>\n",
       "      <th>tfinp</th>\n",
       "      <th>nc0subp</th>\n",
       "      <th>delay_lh_nodeaco</th>\n",
       "      <th>delay_hl_nodeaco</th>\n",
       "      <th>delay_lh_nodebco</th>\n",
       "      <th>delay_hl_nodebco</th>\n",
       "      <th>delay_lh_nodecco</th>\n",
       "      <th>delay_hl_nodecco</th>\n",
       "    </tr>\n",
       "  </thead>\n",
       "  <tbody>\n",
       "    <tr>\n",
       "      <th>8751</th>\n",
       "      <td>1</td>\n",
       "      <td>-24.450685</td>\n",
       "      <td>0.699681</td>\n",
       "      <td>1.232273</td>\n",
       "      <td>9.890000e+21</td>\n",
       "      <td>3.340000e+26</td>\n",
       "      <td>2.740000e+25</td>\n",
       "      <td>1.210000e-09</td>\n",
       "      <td>1.780000e-08</td>\n",
       "      <td>1.070000e+16</td>\n",
       "      <td>...</td>\n",
       "      <td>1.010000e+22</td>\n",
       "      <td>1.840000e-08</td>\n",
       "      <td>6.440000e-09</td>\n",
       "      <td>2.830000e+25</td>\n",
       "      <td>1.730000e-11</td>\n",
       "      <td>1.320000e-11</td>\n",
       "      <td>1.670000e-11</td>\n",
       "      <td>1.310000e-11</td>\n",
       "      <td>1.560000e-11</td>\n",
       "      <td>1.270000e-11</td>\n",
       "    </tr>\n",
       "    <tr>\n",
       "      <th>1951</th>\n",
       "      <td>7</td>\n",
       "      <td>-19.840316</td>\n",
       "      <td>0.692691</td>\n",
       "      <td>0.931748</td>\n",
       "      <td>1.010000e+22</td>\n",
       "      <td>2.910000e+26</td>\n",
       "      <td>2.990000e+25</td>\n",
       "      <td>1.190000e-09</td>\n",
       "      <td>1.790000e-08</td>\n",
       "      <td>1.110000e+16</td>\n",
       "      <td>...</td>\n",
       "      <td>1.090000e+22</td>\n",
       "      <td>1.840000e-08</td>\n",
       "      <td>6.760000e-09</td>\n",
       "      <td>2.860000e+25</td>\n",
       "      <td>1.910000e-11</td>\n",
       "      <td>1.530000e-11</td>\n",
       "      <td>1.860000e-11</td>\n",
       "      <td>1.520000e-11</td>\n",
       "      <td>1.730000e-11</td>\n",
       "      <td>1.450000e-11</td>\n",
       "    </tr>\n",
       "    <tr>\n",
       "      <th>15782</th>\n",
       "      <td>6</td>\n",
       "      <td>50.287073</td>\n",
       "      <td>0.680772</td>\n",
       "      <td>1.281654</td>\n",
       "      <td>1.010000e+22</td>\n",
       "      <td>3.050000e+26</td>\n",
       "      <td>2.990000e+25</td>\n",
       "      <td>1.210000e-09</td>\n",
       "      <td>1.780000e-08</td>\n",
       "      <td>1.100000e+16</td>\n",
       "      <td>...</td>\n",
       "      <td>1.070000e+22</td>\n",
       "      <td>1.720000e-08</td>\n",
       "      <td>6.680000e-09</td>\n",
       "      <td>2.960000e+25</td>\n",
       "      <td>1.400000e-11</td>\n",
       "      <td>9.940000e-12</td>\n",
       "      <td>1.310000e-11</td>\n",
       "      <td>9.740000e-12</td>\n",
       "      <td>1.250000e-11</td>\n",
       "      <td>9.690000e-12</td>\n",
       "    </tr>\n",
       "    <tr>\n",
       "      <th>16385</th>\n",
       "      <td>1</td>\n",
       "      <td>-48.985294</td>\n",
       "      <td>0.693465</td>\n",
       "      <td>0.319665</td>\n",
       "      <td>1.020000e+22</td>\n",
       "      <td>2.980000e+26</td>\n",
       "      <td>2.950000e+25</td>\n",
       "      <td>1.190000e-09</td>\n",
       "      <td>1.820000e-08</td>\n",
       "      <td>1.030000e+16</td>\n",
       "      <td>...</td>\n",
       "      <td>9.550000e+21</td>\n",
       "      <td>1.770000e-08</td>\n",
       "      <td>6.560000e-09</td>\n",
       "      <td>3.020000e+25</td>\n",
       "      <td>1.480000e-11</td>\n",
       "      <td>1.040000e-11</td>\n",
       "      <td>1.390000e-11</td>\n",
       "      <td>1.020000e-11</td>\n",
       "      <td>1.340000e-11</td>\n",
       "      <td>1.030000e-11</td>\n",
       "    </tr>\n",
       "    <tr>\n",
       "      <th>12728</th>\n",
       "      <td>6</td>\n",
       "      <td>81.059227</td>\n",
       "      <td>0.683227</td>\n",
       "      <td>0.643530</td>\n",
       "      <td>1.030000e+22</td>\n",
       "      <td>3.030000e+26</td>\n",
       "      <td>2.820000e+25</td>\n",
       "      <td>1.180000e-09</td>\n",
       "      <td>1.840000e-08</td>\n",
       "      <td>1.090000e+16</td>\n",
       "      <td>...</td>\n",
       "      <td>9.990000e+21</td>\n",
       "      <td>1.710000e-08</td>\n",
       "      <td>6.530000e-09</td>\n",
       "      <td>2.840000e+25</td>\n",
       "      <td>9.890000e-12</td>\n",
       "      <td>7.010000e-12</td>\n",
       "      <td>8.950000e-12</td>\n",
       "      <td>6.820000e-12</td>\n",
       "      <td>8.620000e-12</td>\n",
       "      <td>6.990000e-12</td>\n",
       "    </tr>\n",
       "  </tbody>\n",
       "</table>\n",
       "<p>5 rows × 27 columns</p>\n",
       "</div>"
      ],
      "text/plain": [
       "       yrs       temp      pvdd     cload        nbodyn          nsdp  \\\n",
       "8751     1 -24.450685  0.699681  1.232273  9.890000e+21  3.340000e+26   \n",
       "1951     7 -19.840316  0.692691  0.931748  1.010000e+22  2.910000e+26   \n",
       "15782    6  50.287073  0.680772  1.281654  1.010000e+22  3.050000e+26   \n",
       "16385    1 -48.985294  0.693465  0.319665  1.020000e+22  2.980000e+26   \n",
       "12728    6  81.059227  0.683227  0.643530  1.030000e+22  3.030000e+26   \n",
       "\n",
       "            nc0subn         toxpn         hfinp       ni0subp  ...  \\\n",
       "8751   2.740000e+25  1.210000e-09  1.780000e-08  1.070000e+16  ...   \n",
       "1951   2.990000e+25  1.190000e-09  1.790000e-08  1.110000e+16  ...   \n",
       "15782  2.990000e+25  1.210000e-09  1.780000e-08  1.100000e+16  ...   \n",
       "16385  2.950000e+25  1.190000e-09  1.820000e-08  1.030000e+16  ...   \n",
       "12728  2.820000e+25  1.180000e-09  1.840000e-08  1.090000e+16  ...   \n",
       "\n",
       "             nbodyp         hfinn         tfinp       nc0subp  \\\n",
       "8751   1.010000e+22  1.840000e-08  6.440000e-09  2.830000e+25   \n",
       "1951   1.090000e+22  1.840000e-08  6.760000e-09  2.860000e+25   \n",
       "15782  1.070000e+22  1.720000e-08  6.680000e-09  2.960000e+25   \n",
       "16385  9.550000e+21  1.770000e-08  6.560000e-09  3.020000e+25   \n",
       "12728  9.990000e+21  1.710000e-08  6.530000e-09  2.840000e+25   \n",
       "\n",
       "       delay_lh_nodeaco  delay_hl_nodeaco  delay_lh_nodebco  delay_hl_nodebco  \\\n",
       "8751       1.730000e-11      1.320000e-11      1.670000e-11      1.310000e-11   \n",
       "1951       1.910000e-11      1.530000e-11      1.860000e-11      1.520000e-11   \n",
       "15782      1.400000e-11      9.940000e-12      1.310000e-11      9.740000e-12   \n",
       "16385      1.480000e-11      1.040000e-11      1.390000e-11      1.020000e-11   \n",
       "12728      9.890000e-12      7.010000e-12      8.950000e-12      6.820000e-12   \n",
       "\n",
       "       delay_lh_nodecco  delay_hl_nodecco  \n",
       "8751       1.560000e-11      1.270000e-11  \n",
       "1951       1.730000e-11      1.450000e-11  \n",
       "15782      1.250000e-11      9.690000e-12  \n",
       "16385      1.340000e-11      1.030000e-11  \n",
       "12728      8.620000e-12      6.990000e-12  \n",
       "\n",
       "[5 rows x 27 columns]"
      ]
     },
     "execution_count": 2,
     "metadata": {},
     "output_type": "execute_result"
    }
   ],
   "source": [
    "df_delay=pd.read_csv(\"../data/DelaysWithAging.csv\", sep=\",\")\n",
    "df_delay = shuffle(df_delay)\n",
    "df_delay.head(5)"
   ]
  },
  {
   "cell_type": "code",
   "execution_count": 3,
   "metadata": {},
   "outputs": [
    {
     "data": {
      "text/plain": [
       "Index(['yrs', 'temp', 'pvdd', 'cload', 'nbodyn', 'nsdp', 'nc0subn', 'toxpn',\n",
       "       'hfinp', 'ni0subp', 'eotn', 'lg', 'ni0subn', 'toxpp', 'nsdn', 'tfinn',\n",
       "       'eotp', 'nbodyp', 'hfinn', 'tfinp', 'nc0subp', 'delay_lh_nodeaco',\n",
       "       'delay_hl_nodeaco', 'delay_lh_nodebco', 'delay_hl_nodebco',\n",
       "       'delay_lh_nodecco', 'delay_hl_nodecco'],\n",
       "      dtype='object')"
      ]
     },
     "execution_count": 3,
     "metadata": {},
     "output_type": "execute_result"
    }
   ],
   "source": [
    "df_delay.columns"
   ]
  },
  {
   "cell_type": "code",
   "execution_count": 4,
   "metadata": {},
   "outputs": [
    {
     "name": "stdout",
     "output_type": "stream",
     "text": [
      "19996\n",
      "15996 4000\n"
     ]
    }
   ],
   "source": [
    "print(len(df_delay))\n",
    "train_length = int(0.8*len(df_delay))\n",
    "val_length = len(df_delay) - train_length\n",
    "print(train_length, val_length)\n",
    "input_columns=21\n",
    "output_columns=6"
   ]
  },
  {
   "cell_type": "code",
   "execution_count": 5,
   "metadata": {},
   "outputs": [],
   "source": [
    "dataset_delay = df_delay.values\n",
    "X_delay = dataset_delay[:train_length,0:input_columns]\n",
    "y_delay = dataset_delay[:train_length,input_columns:]"
   ]
  },
  {
   "cell_type": "code",
   "execution_count": 6,
   "metadata": {},
   "outputs": [],
   "source": [
    "scalarX_delay, scalarY_delay = MinMaxScaler(), MinMaxScaler()\n",
    "scalarX_delay.fit(X_delay)\n",
    "scalarY_delay.fit(y_delay.reshape(train_length,output_columns))\n",
    "X_delay = scalarX_delay.transform(X_delay)\n",
    "y_delay = scalarY_delay.transform(y_delay.reshape(train_length,output_columns))"
   ]
  },
  {
   "cell_type": "markdown",
   "metadata": {},
   "source": [
    "# Model Training"
   ]
  },
  {
   "cell_type": "code",
   "execution_count": 7,
   "metadata": {},
   "outputs": [],
   "source": [
    "rf_delay = RandomForestRegressor(n_estimators= 200, criterion = 'mse', max_depth = None, random_state=42)\n",
    "rf_delay.fit(X_delay, y_delay);"
   ]
  },
  {
   "cell_type": "code",
   "execution_count": 8,
   "metadata": {},
   "outputs": [],
   "source": [
    "X_test_delay = dataset_delay[train_length:,0:input_columns]\n",
    "y_test_delay = dataset_delay[train_length:,input_columns:]\n",
    "\n",
    "X_test_delay = scalarX_delay.transform(X_test_delay)\n",
    "y_testpred_delay = rf_delay.predict(X_test_delay)\n",
    "y_testpred2_delay = scalarY_delay.inverse_transform(y_testpred_delay)\n",
    "\n",
    "y_trainpred_delay = rf_delay.predict(X_delay)\n",
    "y_trainpred2_delay = scalarY_delay.inverse_transform(y_trainpred_delay)\n",
    "\n",
    "y_2_delay = scalarY_delay.inverse_transform(y_delay)"
   ]
  },
  {
   "cell_type": "code",
   "execution_count": 9,
   "metadata": {},
   "outputs": [
    {
     "name": "stdout",
     "output_type": "stream",
     "text": [
      "Train R2 Score for delay_lh_nodeaco : 0.9646792930968354\n",
      "Test  R2 Score for delay_lh_nodeaco : 0.6617989445769681\n",
      "\n",
      "Train R2 Score for delay_hl_nodeaco : 0.963607961532957\n",
      "Test  R2 Score for delay_hl_nodeaco : 0.6423353077040567\n",
      "\n",
      "Train R2 Score for delay_lh_nodebco : 0.9647967966946539\n",
      "Test  R2 Score for delay_lh_nodebco : 0.6634452687720136\n",
      "\n",
      "Train R2 Score for delay_hl_nodebco : 0.9633447616713834\n",
      "Test  R2 Score for delay_hl_nodebco : 0.6388694858887156\n",
      "\n",
      "Train R2 Score for delay_lh_nodecco : 0.964672284618866\n",
      "Test  R2 Score for delay_lh_nodecco : 0.6607766019763635\n",
      "\n",
      "Train R2 Score for delay_hl_nodecco : 0.963136960093841\n",
      "Test  R2 Score for delay_hl_nodecco : 0.6357159069568701\n",
      "\n"
     ]
    }
   ],
   "source": [
    "for i in range(output_columns):\n",
    "    r2_train = r2_score(y_trainpred2_delay[:,i], y_2_delay[:,i])\n",
    "    r2_test = r2_score(y_testpred2_delay[:,i], y_test_delay[:,i])\n",
    "    print(\"Train R2 Score for \"+df_delay.columns[input_columns+i]+\" : \"+str(r2_train))\n",
    "    print(\"Test  R2 Score for \"+df_delay.columns[input_columns+i]+\" : \"+str(r2_test))\n",
    "    print()"
   ]
  },
  {
   "cell_type": "code",
   "execution_count": 10,
   "metadata": {},
   "outputs": [
    {
     "name": "stdout",
     "output_type": "stream",
     "text": [
      "Mean Train Accuracy: 95.83 %\n"
     ]
    }
   ],
   "source": [
    "sum=0\n",
    "count=0\n",
    "for i in range(train_length):\n",
    "    for j in range(output_columns):        \n",
    "        error = abs(y_trainpred2_delay[i,j] - y_2_delay[i,j])/(y_2_delay[i,j])\n",
    "        sum+=error\n",
    "print(\"Mean Train Accuracy: {:.2f} %\".format(100 - (sum/(train_length*output_columns) * 100)))"
   ]
  },
  {
   "cell_type": "code",
   "execution_count": 11,
   "metadata": {},
   "outputs": [
    {
     "name": "stdout",
     "output_type": "stream",
     "text": [
      "Mean Test Accuracy: 88.34 %\n"
     ]
    }
   ],
   "source": [
    "sum=0\n",
    "count=0\n",
    "for i in range(val_length):\n",
    "    for j in range(output_columns):  \n",
    "        error = abs(y_testpred2_delay[i,j] - y_test_delay[i,j])/(y_test_delay[i,j])\n",
    "        sum+=error    \n",
    "print(\"Mean Test Accuracy: {:.2f} %\".format(100 - (sum/(val_length*output_columns) * 100)))"
   ]
  },
  {
   "cell_type": "code",
   "execution_count": 12,
   "metadata": {},
   "outputs": [
    {
     "name": "stdout",
     "output_type": "stream",
     "text": [
      "The depth of this tree is: 29\n"
     ]
    }
   ],
   "source": [
    "tree = rf_delay.estimators_[5]\n",
    "print('The depth of this tree is:', tree.tree_.max_depth)"
   ]
  },
  {
   "cell_type": "code",
   "execution_count": 98,
   "metadata": {
    "scrolled": true
   },
   "outputs": [],
   "source": [
    "errors1=[]\n",
    "errors2=[]\n",
    "errors3=[]\n",
    "errors4=[]\n",
    "errors5=[]\n",
    "errors6=[]\n",
    "\n",
    "error_rem_1=[]\n",
    "error_rem_2=[]\n",
    "error_rem_3=[]\n",
    "error_rem_4=[]\n",
    "error_rem_5=[]\n",
    "error_rem_6=[]\n",
    "\n",
    "count1=0\n",
    "count2=0\n",
    "count3=0\n",
    "count4=0\n",
    "count5=0\n",
    "count6=0\n",
    "\n",
    "for i in range(val_length):\n",
    "\n",
    "    error1 = abs(y_testpred2_delay[i,0] - y_test_delay[i,0])/y_test_delay[i,0]\n",
    "    error2 = abs(y_testpred2_delay[i,1] - y_test_delay[i,1])/y_test_delay[i,1]\n",
    "    error3 = abs(y_testpred2_delay[i,2] - y_test_delay[i,2])/y_test_delay[i,2]\n",
    "    error4 = abs(y_testpred2_delay[i,3] - y_test_delay[i,3])/y_test_delay[i,3]\n",
    "    error5 = abs(y_testpred2_delay[i,4] - y_test_delay[i,4])/y_test_delay[i,4]\n",
    "    error6 = abs(y_testpred2_delay[i,5] - y_test_delay[i,5])/y_test_delay[i,5]\n",
    "    \n",
    "    errors1.append(error1)\n",
    "    errors2.append(error2)\n",
    "    errors3.append(error3)\n",
    "    errors4.append(error4)\n",
    "    errors5.append(error5)\n",
    "    errors6.append(error6)\n",
    "    \n",
    "    if(error1<2):\n",
    "        error_rem_1.append(error1)\n",
    "        count1+=1\n",
    "    if(error2<2):\n",
    "        error_rem_2.append(error2)\n",
    "        count2+=1\n",
    "    if(error3<2):\n",
    "        error_rem_3.append(error3)\n",
    "        count3+=1\n",
    "    if(error4<2):\n",
    "        error_rem_4.append(error4)\n",
    "        count4+=1\n",
    "    if(error5<2):\n",
    "        error_rem_5.append(error5)\n",
    "        count5+=1\n",
    "    if(error6<2):\n",
    "        error_rem_6.append(error6)\n",
    "        count6+=1\n",
    "    \n",
    "# plt.plot(range(val_length), errors1)\n",
    "# plt.show()\n",
    "# plt.plot(range(val_length), errors2)\n",
    "# plt.show()\n",
    "# plt.plot(range(val_length), errors3)\n",
    "# plt.show()\n",
    "# plt.plot(range(val_length), errors4)\n",
    "# plt.show()\n",
    "# plt.plot(range(val_length), errors5)\n",
    "# plt.show()\n",
    "# plt.plot(range(val_length), errors6)\n",
    "# plt.show()\n",
    "\n",
    "\n",
    "# print(np.mean(errors1)*100)\n",
    "# print(np.mean(errors2)*100)\n",
    "# print(np.mean(errors3)*100)\n",
    "# print(np.mean(errors4)*100)\n",
    "# print(np.mean(errors5)*100)\n",
    "# print(np.mean(errors6)*100)\n",
    "\n",
    "# print(count1, count2, count3, count4, count5, count6)\n",
    "\n",
    "# print(np.mean(error_rem_1)*100)\n",
    "# print(np.mean(error_rem_2)*100)\n",
    "# print(np.mean(error_rem_3)*100)\n",
    "# print(np.mean(error_rem_4)*100)\n",
    "# print(np.mean(error_rem_5)*100)\n",
    "# print(np.mean(error_rem_6)*100)\n"
   ]
  },
  {
   "cell_type": "markdown",
   "metadata": {},
   "source": [
    "# Feature Importance"
   ]
  },
  {
   "cell_type": "code",
   "execution_count": 99,
   "metadata": {},
   "outputs": [
    {
     "name": "stdout",
     "output_type": "stream",
     "text": [
      "Variable: temp                 Importance: 0.48\n",
      "Variable: cload                Importance: 0.2\n",
      "Variable: yrs                  Importance: 0.14\n",
      "Variable: pvdd                 Importance: 0.04\n",
      "Variable: nbodyn               Importance: 0.01\n",
      "Variable: nsdp                 Importance: 0.01\n",
      "Variable: nc0subn              Importance: 0.01\n",
      "Variable: toxpn                Importance: 0.01\n",
      "Variable: hfinp                Importance: 0.01\n",
      "Variable: ni0subp              Importance: 0.01\n",
      "Variable: eotn                 Importance: 0.01\n",
      "Variable: lg                   Importance: 0.01\n",
      "Variable: ni0subn              Importance: 0.01\n",
      "Variable: toxpp                Importance: 0.01\n",
      "Variable: nsdn                 Importance: 0.01\n",
      "Variable: tfinn                Importance: 0.01\n",
      "Variable: eotp                 Importance: 0.01\n",
      "Variable: nbodyp               Importance: 0.01\n",
      "Variable: hfinn                Importance: 0.01\n",
      "Variable: tfinp                Importance: 0.01\n",
      "Variable: nc0subp              Importance: 0.01\n"
     ]
    }
   ],
   "source": [
    "importances = list(rf_delay.feature_importances_)\n",
    "feature_importances = [(feature, round(importance, 2)) for feature, importance in zip(df_delay.columns[:input_columns], importances)]\n",
    "feature_importances = sorted(feature_importances, key = lambda x: x[1], reverse = True)\n",
    "[print('Variable: {:20} Importance: {}'.format(*pair)) for pair in feature_importances];"
   ]
  },
  {
   "cell_type": "code",
   "execution_count": 100,
   "metadata": {},
   "outputs": [
    {
     "data": {
      "image/png": "[encoded data removed]",
      "text/plain": [
       "<Figure size 432x288 with 1 Axes>"
      ]
     },
     "metadata": {},
     "output_type": "display_data"
    }
   ],
   "source": [
    "plt.style.use('fivethirtyeight')\n",
    "x_values = list(range(len(importances)))\n",
    "plt.bar(x_values, importances, orientation = 'vertical')\n",
    "plt.xticks(x_values, df_delay.columns[:input_columns], rotation='vertical')\n",
    "plt.ylabel('Importance'); plt.xlabel('Variable'); plt.title('Variable Importances'); "
   ]
  },
  {
   "cell_type": "markdown",
   "metadata": {},
   "source": [
    "# Retraining with only the important features"
   ]
  },
  {
   "cell_type": "code",
   "execution_count": 104,
   "metadata": {},
   "outputs": [],
   "source": [
    "# New random forest with only the two most important variables\n",
    "rf_most_important = RandomForestRegressor(n_estimators= 300, criterion='mse',random_state=42)\n",
    "\n",
    "important_indices = [0,1,2,3]\n",
    "train_important = X_delay[:, important_indices]\n",
    "test_important = X_test_delay[:, important_indices]\n",
    "\n",
    "rf_most_important.fit(train_important, y_delay)\n",
    "\n",
    "prediction_train = rf_most_important.predict(train_important)\n",
    "prediction_test = rf_most_important.predict(test_important)\n",
    "\n",
    "prediction_train2 = scalarY_delay.inverse_transform(prediction_train)\n",
    "prediction_test2 = scalarY_delay.inverse_transform(prediction_test)"
   ]
  },
  {
   "cell_type": "code",
   "execution_count": 105,
   "metadata": {},
   "outputs": [
    {
     "name": "stdout",
     "output_type": "stream",
     "text": [
      "Mean Train Accuracy: 95.96 %\n"
     ]
    }
   ],
   "source": [
    "sum=0\n",
    "count=0\n",
    "for i in range(train_length):\n",
    "    for j in range(output_columns):        \n",
    "        error = abs(prediction_train2[i,j] - y_2_delay[i,j])/(y_2_delay[i,j])\n",
    "        sum+=error\n",
    "print(\"Mean Train Accuracy: {:.2f} %\".format(100 - (sum/(train_length*output_columns) * 100)))"
   ]
  },
  {
   "cell_type": "code",
   "execution_count": 106,
   "metadata": {},
   "outputs": [
    {
     "name": "stdout",
     "output_type": "stream",
     "text": [
      "Mean Test Accuracy: 88.19 %\n"
     ]
    }
   ],
   "source": [
    "sum=0\n",
    "count=0\n",
    "for i in range(val_length):\n",
    "    for j in range(output_columns):  \n",
    "        error = abs(prediction_test2[i,j] - y_test_delay[i,j])/(y_test_delay[i,j])\n",
    "        sum+=error    \n",
    "print(\"Mean Test Accuracy: {:.2f} %\".format(100 - (sum/(val_length*output_columns) * 100)))"
   ]
  },
  {
   "cell_type": "code",
   "execution_count": 107,
   "metadata": {},
   "outputs": [
    {
     "name": "stdout",
     "output_type": "stream",
     "text": [
      "The depth of this tree is: 29\n"
     ]
    }
   ],
   "source": [
    "tree = rf_most_important.estimators_[5]\n",
    "print('The depth of this tree is:', tree.tree_.max_depth)"
   ]
  }
 ],
 "metadata": {
  "kernelspec": {
   "display_name": "Python 3",
   "language": "python",
   "name": "python3"
  },
  "language_info": {
   "codemirror_mode": {
    "name": "ipython",
    "version": 3
   },
   "file_extension": ".py",
   "mimetype": "text/x-python",
   "name": "python",
   "nbconvert_exporter": "python",
   "pygments_lexer": "ipython3",
   "version": "3.8.5"
  }
 },
 "nbformat": 4,
 "nbformat_minor": 4
}
