{
 "cells": [
  {
   "cell_type": "code",
   "execution_count": 1,
   "metadata": {},
   "outputs": [],
   "source": [
    "import pandas as pd\n",
    "from pandas import read_excel\n",
    "from keras.models import Sequential\n",
    "from keras.layers import Dense, Dropout\n",
    "from keras.optimizers import Adam\n",
    "from sklearn.preprocessing import MinMaxScaler\n",
    "from sklearn.preprocessing import StandardScaler\n",
    "from sklearn.metrics import r2_score\n",
    "from sklearn.utils import shuffle\n",
    "from sklearn.metrics import mean_squared_error \n",
    "import numpy as np\n",
    "from scipy.stats import pearsonr\n",
    "from scipy.stats import spearmanr\n",
    "import seaborn as sns\n",
    "import matplotlib.pyplot as plt\n",
    "from sklearn.ensemble import RandomForestRegressor\n",
    "from sklearn.tree import export_graphviz\n",
    "import pydot\n",
    "import matplotlib.pyplot as plt\n",
    "%matplotlib inline"
   ]
  },
  {
   "cell_type": "markdown",
   "metadata": {},
   "source": [
    "# Preprocessing"
   ]
  },
  {
   "cell_type": "code",
   "execution_count": 2,
   "metadata": {},
   "outputs": [
    {
     "data": {
      "text/html": [
       "<div>\n",
       "<style scoped>\n",
       "    .dataframe tbody tr th:only-of-type {\n",
       "        vertical-align: middle;\n",
       "    }\n",
       "\n",
       "    .dataframe tbody tr th {\n",
       "        vertical-align: top;\n",
       "    }\n",
       "\n",
       "    .dataframe thead th {\n",
       "        text-align: right;\n",
       "    }\n",
       "</style>\n",
       "<table border=\"1\" class=\"dataframe\">\n",
       "  <thead>\n",
       "    <tr style=\"text-align: right;\">\n",
       "      <th></th>\n",
       "      <th>temp</th>\n",
       "      <th>pvdd</th>\n",
       "      <th>cqload</th>\n",
       "      <th>nbodyn</th>\n",
       "      <th>nsdp</th>\n",
       "      <th>nc0subn</th>\n",
       "      <th>toxpn</th>\n",
       "      <th>hfinp</th>\n",
       "      <th>ni0subp</th>\n",
       "      <th>eotn</th>\n",
       "      <th>...</th>\n",
       "      <th>delay_lh_nodeb_nand2</th>\n",
       "      <th>delay_hl_nodeb_nand2</th>\n",
       "      <th>delay_lh_nodea_nor2</th>\n",
       "      <th>delay_hl_nodea_nor2</th>\n",
       "      <th>delay_lh_nodeb_nor2</th>\n",
       "      <th>delay_hl_nodeb_nor2</th>\n",
       "      <th>delay_lh_nodea_xor2</th>\n",
       "      <th>delay_hl_nodea_xor2</th>\n",
       "      <th>delay_lh_nodeb_xor2</th>\n",
       "      <th>delay_hl_nodeb_xor2</th>\n",
       "    </tr>\n",
       "  </thead>\n",
       "  <tbody>\n",
       "    <tr>\n",
       "      <th>10122</th>\n",
       "      <td>93.443012</td>\n",
       "      <td>0.809950</td>\n",
       "      <td>2.820000e-15</td>\n",
       "      <td>1.090000e+23</td>\n",
       "      <td>2.790000e+26</td>\n",
       "      <td>2.970000e+25</td>\n",
       "      <td>1.370000e-09</td>\n",
       "      <td>2.570000e-08</td>\n",
       "      <td>1.170000e+16</td>\n",
       "      <td>7.910000e-10</td>\n",
       "      <td>...</td>\n",
       "      <td>1.020000e-11</td>\n",
       "      <td>1.450000e-11</td>\n",
       "      <td>8.820000e-12</td>\n",
       "      <td>1.840000e-11</td>\n",
       "      <td>9.110000e-12</td>\n",
       "      <td>1.740000e-11</td>\n",
       "      <td>9.920000e-12</td>\n",
       "      <td>1.620000e-11</td>\n",
       "      <td>8.930000e-12</td>\n",
       "      <td>1.440000e-11</td>\n",
       "    </tr>\n",
       "    <tr>\n",
       "      <th>4358</th>\n",
       "      <td>-8.196138</td>\n",
       "      <td>0.812206</td>\n",
       "      <td>1.890000e-15</td>\n",
       "      <td>9.520000e+22</td>\n",
       "      <td>2.920000e+26</td>\n",
       "      <td>2.740000e+25</td>\n",
       "      <td>1.320000e-09</td>\n",
       "      <td>2.530000e-08</td>\n",
       "      <td>1.090000e+16</td>\n",
       "      <td>7.610000e-10</td>\n",
       "      <td>...</td>\n",
       "      <td>9.240000e-12</td>\n",
       "      <td>1.120000e-11</td>\n",
       "      <td>8.020000e-12</td>\n",
       "      <td>1.540000e-11</td>\n",
       "      <td>7.900000e-12</td>\n",
       "      <td>1.420000e-11</td>\n",
       "      <td>9.330000e-12</td>\n",
       "      <td>1.320000e-11</td>\n",
       "      <td>7.700000e-12</td>\n",
       "      <td>1.040000e-11</td>\n",
       "    </tr>\n",
       "    <tr>\n",
       "      <th>2337</th>\n",
       "      <td>-34.909348</td>\n",
       "      <td>0.818854</td>\n",
       "      <td>1.450000e-15</td>\n",
       "      <td>1.020000e+23</td>\n",
       "      <td>3.180000e+26</td>\n",
       "      <td>2.980000e+25</td>\n",
       "      <td>1.310000e-09</td>\n",
       "      <td>2.670000e-08</td>\n",
       "      <td>1.090000e+16</td>\n",
       "      <td>7.920000e-10</td>\n",
       "      <td>...</td>\n",
       "      <td>7.910000e-12</td>\n",
       "      <td>9.270000e-12</td>\n",
       "      <td>6.950000e-12</td>\n",
       "      <td>1.330000e-11</td>\n",
       "      <td>6.740000e-12</td>\n",
       "      <td>1.180000e-11</td>\n",
       "      <td>8.300000e-12</td>\n",
       "      <td>1.140000e-11</td>\n",
       "      <td>6.520000e-12</td>\n",
       "      <td>8.390000e-12</td>\n",
       "    </tr>\n",
       "    <tr>\n",
       "      <th>8236</th>\n",
       "      <td>54.005394</td>\n",
       "      <td>0.819255</td>\n",
       "      <td>2.740000e-15</td>\n",
       "      <td>9.980000e+22</td>\n",
       "      <td>3.160000e+26</td>\n",
       "      <td>2.720000e+25</td>\n",
       "      <td>1.300000e-09</td>\n",
       "      <td>2.550000e-08</td>\n",
       "      <td>1.120000e+16</td>\n",
       "      <td>7.540000e-10</td>\n",
       "      <td>...</td>\n",
       "      <td>1.060000e-11</td>\n",
       "      <td>1.420000e-11</td>\n",
       "      <td>9.130000e-12</td>\n",
       "      <td>1.820000e-11</td>\n",
       "      <td>9.270000e-12</td>\n",
       "      <td>1.720000e-11</td>\n",
       "      <td>1.030000e-11</td>\n",
       "      <td>1.590000e-11</td>\n",
       "      <td>9.110000e-12</td>\n",
       "      <td>1.400000e-11</td>\n",
       "    </tr>\n",
       "    <tr>\n",
       "      <th>10868</th>\n",
       "      <td>56.942397</td>\n",
       "      <td>0.838387</td>\n",
       "      <td>2.550000e-15</td>\n",
       "      <td>1.030000e+23</td>\n",
       "      <td>3.170000e+26</td>\n",
       "      <td>2.910000e+25</td>\n",
       "      <td>1.290000e-09</td>\n",
       "      <td>2.610000e-08</td>\n",
       "      <td>1.130000e+16</td>\n",
       "      <td>8.040000e-10</td>\n",
       "      <td>...</td>\n",
       "      <td>9.570000e-12</td>\n",
       "      <td>1.310000e-11</td>\n",
       "      <td>8.250000e-12</td>\n",
       "      <td>1.720000e-11</td>\n",
       "      <td>8.490000e-12</td>\n",
       "      <td>1.610000e-11</td>\n",
       "      <td>9.450000e-12</td>\n",
       "      <td>1.490000e-11</td>\n",
       "      <td>8.310000e-12</td>\n",
       "      <td>1.300000e-11</td>\n",
       "    </tr>\n",
       "  </tbody>\n",
       "</table>\n",
       "<p>5 rows × 36 columns</p>\n",
       "</div>"
      ],
      "text/plain": [
       "            temp      pvdd        cqload        nbodyn          nsdp  \\\n",
       "10122  93.443012  0.809950  2.820000e-15  1.090000e+23  2.790000e+26   \n",
       "4358   -8.196138  0.812206  1.890000e-15  9.520000e+22  2.920000e+26   \n",
       "2337  -34.909348  0.818854  1.450000e-15  1.020000e+23  3.180000e+26   \n",
       "8236   54.005394  0.819255  2.740000e-15  9.980000e+22  3.160000e+26   \n",
       "10868  56.942397  0.838387  2.550000e-15  1.030000e+23  3.170000e+26   \n",
       "\n",
       "            nc0subn         toxpn         hfinp       ni0subp          eotn  \\\n",
       "10122  2.970000e+25  1.370000e-09  2.570000e-08  1.170000e+16  7.910000e-10   \n",
       "4358   2.740000e+25  1.320000e-09  2.530000e-08  1.090000e+16  7.610000e-10   \n",
       "2337   2.980000e+25  1.310000e-09  2.670000e-08  1.090000e+16  7.920000e-10   \n",
       "8236   2.720000e+25  1.300000e-09  2.550000e-08  1.120000e+16  7.540000e-10   \n",
       "10868  2.910000e+25  1.290000e-09  2.610000e-08  1.130000e+16  8.040000e-10   \n",
       "\n",
       "       ...  delay_lh_nodeb_nand2  delay_hl_nodeb_nand2  delay_lh_nodea_nor2  \\\n",
       "10122  ...          1.020000e-11          1.450000e-11         8.820000e-12   \n",
       "4358   ...          9.240000e-12          1.120000e-11         8.020000e-12   \n",
       "2337   ...          7.910000e-12          9.270000e-12         6.950000e-12   \n",
       "8236   ...          1.060000e-11          1.420000e-11         9.130000e-12   \n",
       "10868  ...          9.570000e-12          1.310000e-11         8.250000e-12   \n",
       "\n",
       "       delay_hl_nodea_nor2  delay_lh_nodeb_nor2  delay_hl_nodeb_nor2  \\\n",
       "10122         1.840000e-11         9.110000e-12         1.740000e-11   \n",
       "4358          1.540000e-11         7.900000e-12         1.420000e-11   \n",
       "2337          1.330000e-11         6.740000e-12         1.180000e-11   \n",
       "8236          1.820000e-11         9.270000e-12         1.720000e-11   \n",
       "10868         1.720000e-11         8.490000e-12         1.610000e-11   \n",
       "\n",
       "       delay_lh_nodea_xor2  delay_hl_nodea_xor2  delay_lh_nodeb_xor2  \\\n",
       "10122         9.920000e-12         1.620000e-11         8.930000e-12   \n",
       "4358          9.330000e-12         1.320000e-11         7.700000e-12   \n",
       "2337          8.300000e-12         1.140000e-11         6.520000e-12   \n",
       "8236          1.030000e-11         1.590000e-11         9.110000e-12   \n",
       "10868         9.450000e-12         1.490000e-11         8.310000e-12   \n",
       "\n",
       "       delay_hl_nodeb_xor2  \n",
       "10122         1.440000e-11  \n",
       "4358          1.040000e-11  \n",
       "2337          8.390000e-12  \n",
       "8236          1.400000e-11  \n",
       "10868         1.300000e-11  \n",
       "\n",
       "[5 rows x 36 columns]"
      ]
     },
     "execution_count": 2,
     "metadata": {},
     "output_type": "execute_result"
    }
   ],
   "source": [
    "df_delay=pd.read_csv(\"../data/DelaysWithoutAging.csv\", sep=\",\")\n",
    "df_delay = shuffle(df_delay)\n",
    "df_delay.head(5)"
   ]
  },
  {
   "cell_type": "code",
   "execution_count": 3,
   "metadata": {},
   "outputs": [
    {
     "name": "stdout",
     "output_type": "stream",
     "text": [
      "14996\n",
      "11996 3000\n"
     ]
    }
   ],
   "source": [
    "print(len(df_delay))\n",
    "train_length = int(0.8*len(df_delay))\n",
    "val_length = len(df_delay) - train_length\n",
    "print(train_length, val_length)\n",
    "\n",
    "input_columns=20\n",
    "output_columns=16"
   ]
  },
  {
   "cell_type": "code",
   "execution_count": 4,
   "metadata": {},
   "outputs": [],
   "source": [
    "dataset_delay = df_delay.values\n",
    "X_delay = dataset_delay[:train_length,0:input_columns]\n",
    "y_delay = dataset_delay[:train_length,input_columns:]"
   ]
  },
  {
   "cell_type": "code",
   "execution_count": 5,
   "metadata": {},
   "outputs": [],
   "source": [
    "scalarX_delay, scalarY_delay = MinMaxScaler(), MinMaxScaler()\n",
    "scalarX_delay.fit(X_delay)\n",
    "scalarY_delay.fit(y_delay.reshape(train_length,output_columns))\n",
    "X_delay = scalarX_delay.transform(X_delay)\n",
    "y_delay = scalarY_delay.transform(y_delay.reshape(train_length,output_columns))"
   ]
  },
  {
   "cell_type": "markdown",
   "metadata": {},
   "source": [
    "# Model Training"
   ]
  },
  {
   "cell_type": "code",
   "execution_count": 6,
   "metadata": {},
   "outputs": [],
   "source": [
    "rf_delay = RandomForestRegressor(n_estimators= 500, criterion = 'mse', max_depth = None)\n",
    "rf_delay.fit(X_delay, y_delay);"
   ]
  },
  {
   "cell_type": "code",
   "execution_count": 7,
   "metadata": {},
   "outputs": [],
   "source": [
    "X_test_delay = dataset_delay[train_length:,0:input_columns]\n",
    "y_test_delay = dataset_delay[train_length:,input_columns:]\n",
    "\n",
    "X_test_delay = scalarX_delay.transform(X_test_delay)\n",
    "y_testpred_delay = rf_delay.predict(X_test_delay)\n",
    "y_testpred2_delay = scalarY_delay.inverse_transform(y_testpred_delay)\n",
    "\n",
    "y_trainpred_delay = rf_delay.predict(X_delay)\n",
    "y_trainpred2_delay = scalarY_delay.inverse_transform(y_trainpred_delay)\n",
    "\n",
    "y_2_delay = scalarY_delay.inverse_transform(y_delay)"
   ]
  },
  {
   "cell_type": "code",
   "execution_count": 8,
   "metadata": {},
   "outputs": [
    {
     "name": "stdout",
     "output_type": "stream",
     "text": [
      "Train R2 Score for delay_lh_nodea_and2 : 0.9994543340471179\n",
      "Test  R2 Score for delay_lh_nodea_and2 : 0.9961698597093739\n",
      "\n",
      "Train R2 Score for delay_hl_nodea_and2 : 0.9996240004642718\n",
      "Test  R2 Score for delay_hl_nodea_and2 : 0.9973611018333233\n",
      "\n",
      "Train R2 Score for delay_lh_nodeb_and2 : 0.9995197800917084\n",
      "Test  R2 Score for delay_lh_nodeb_and2 : 0.9966787726581857\n",
      "\n",
      "Train R2 Score for delay_hl_nodeb_and2 : 0.9996539647784315\n",
      "Test  R2 Score for delay_hl_nodeb_and2 : 0.9975779364768209\n",
      "\n",
      "Train R2 Score for delay_lh_nodea_nand2 : 0.9994799559166878\n",
      "Test  R2 Score for delay_lh_nodea_nand2 : 0.9963423783090565\n",
      "\n",
      "Train R2 Score for delay_hl_nodea_nand2 : 0.9996770152054945\n",
      "Test  R2 Score for delay_hl_nodea_nand2 : 0.9976940706340746\n",
      "\n",
      "Train R2 Score for delay_lh_nodeb_nand2 : 0.9995492397242656\n",
      "Test  R2 Score for delay_lh_nodeb_nand2 : 0.9968995214732982\n",
      "\n",
      "Train R2 Score for delay_hl_nodeb_nand2 : 0.9997137201615879\n",
      "Test  R2 Score for delay_hl_nodeb_nand2 : 0.9979998659302233\n",
      "\n",
      "Train R2 Score for delay_lh_nodea_nor2 : 0.9996171363415506\n",
      "Test  R2 Score for delay_lh_nodea_nor2 : 0.9972891893724395\n",
      "\n",
      "Train R2 Score for delay_hl_nodea_nor2 : 0.9993936898218305\n",
      "Test  R2 Score for delay_hl_nodea_nor2 : 0.9956654477025667\n",
      "\n",
      "Train R2 Score for delay_lh_nodeb_nor2 : 0.9997083609313754\n",
      "Test  R2 Score for delay_lh_nodeb_nor2 : 0.9979904415486984\n",
      "\n",
      "Train R2 Score for delay_hl_nodeb_nor2 : 0.9995532886883668\n",
      "Test  R2 Score for delay_hl_nodeb_nor2 : 0.9967931607914778\n",
      "\n",
      "Train R2 Score for delay_lh_nodea_xor2 : 0.999551837276023\n",
      "Test  R2 Score for delay_lh_nodea_xor2 : 0.9968373067906885\n",
      "\n",
      "Train R2 Score for delay_hl_nodea_xor2 : 0.999540718547621\n",
      "Test  R2 Score for delay_hl_nodea_xor2 : 0.9967326333446163\n",
      "\n",
      "Train R2 Score for delay_lh_nodeb_xor2 : 0.9996965778362109\n",
      "Test  R2 Score for delay_lh_nodeb_xor2 : 0.9978992700541429\n",
      "\n",
      "Train R2 Score for delay_hl_nodeb_xor2 : 0.999690106783522\n",
      "Test  R2 Score for delay_hl_nodeb_xor2 : 0.9977948490835598\n",
      "\n"
     ]
    }
   ],
   "source": [
    "for i in range(output_columns):\n",
    "    r2_train = r2_score(y_trainpred2_delay[:,i], y_2_delay[:,i])\n",
    "    r2_test = r2_score(y_testpred2_delay[:,i], y_test_delay[:,i])\n",
    "    print(\"Train R2 Score for \"+df_delay.columns[input_columns+i]+\" : \"+str(r2_train))\n",
    "    print(\"Test  R2 Score for \"+df_delay.columns[input_columns+i]+\" : \"+str(r2_test))\n",
    "    print()"
   ]
  },
  {
   "cell_type": "code",
   "execution_count": 9,
   "metadata": {},
   "outputs": [
    {
     "name": "stdout",
     "output_type": "stream",
     "text": [
      "Mean Train Accuracy: 99.47 %\n"
     ]
    }
   ],
   "source": [
    "sum=0\n",
    "count=0\n",
    "for i in range(train_length):\n",
    "    for j in range(output_columns):        \n",
    "        error = abs(y_trainpred2_delay[i,j] - y_2_delay[i,j])/(y_2_delay[i,j])\n",
    "        sum+=error\n",
    "print(\"Mean Train Accuracy: {:.2f} %\".format(100 - (sum/(train_length*output_columns) * 100)))"
   ]
  },
  {
   "cell_type": "code",
   "execution_count": 10,
   "metadata": {},
   "outputs": [
    {
     "name": "stdout",
     "output_type": "stream",
     "text": [
      "Mean Test Accuracy: 98.60 %\n"
     ]
    }
   ],
   "source": [
    "sum=0\n",
    "count=0\n",
    "for i in range(val_length):\n",
    "    for j in range(output_columns):  \n",
    "        error = abs(y_testpred2_delay[i,j] - y_test_delay[i,j])/(y_test_delay[i,j])\n",
    "        sum+=error    \n",
    "print(\"Mean Test Accuracy: {:.2f} %\".format(100 - (sum/(val_length*output_columns) * 100)))"
   ]
  },
  {
   "cell_type": "code",
   "execution_count": 11,
   "metadata": {},
   "outputs": [
    {
     "name": "stdout",
     "output_type": "stream",
     "text": [
      "The depth of this tree is: 21\n"
     ]
    }
   ],
   "source": [
    "tree = rf_delay.estimators_[5]\n",
    "print('The depth of this tree is:', tree.tree_.max_depth)"
   ]
  },
  {
   "cell_type": "markdown",
   "metadata": {},
   "source": [
    "# Finding Feature Importance "
   ]
  },
  {
   "cell_type": "code",
   "execution_count": 12,
   "metadata": {},
   "outputs": [
    {
     "name": "stdout",
     "output_type": "stream",
     "text": [
      "Variable: cqload               Importance: 0.95\n",
      "Variable: temp                 Importance: 0.04\n",
      "Variable: pvdd                 Importance: 0.0\n",
      "Variable: nbodyn               Importance: 0.0\n",
      "Variable: nsdp                 Importance: 0.0\n",
      "Variable: nc0subn              Importance: 0.0\n",
      "Variable: toxpn                Importance: 0.0\n",
      "Variable: hfinp                Importance: 0.0\n",
      "Variable: ni0subp              Importance: 0.0\n",
      "Variable: eotn                 Importance: 0.0\n",
      "Variable: lg                   Importance: 0.0\n",
      "Variable: ni0subn              Importance: 0.0\n",
      "Variable: toxpp                Importance: 0.0\n",
      "Variable: nsdn                 Importance: 0.0\n",
      "Variable: tfinn                Importance: 0.0\n",
      "Variable: eotp                 Importance: 0.0\n",
      "Variable: nbodyp               Importance: 0.0\n",
      "Variable: hfinn                Importance: 0.0\n",
      "Variable: tfinp                Importance: 0.0\n",
      "Variable: nc0subp              Importance: 0.0\n"
     ]
    }
   ],
   "source": [
    "importances = list(rf_delay.feature_importances_)\n",
    "feature_importances = [(feature, round(importance, 2)) for feature, importance in zip(df_delay.columns[:input_columns], importances)]\n",
    "feature_importances = sorted(feature_importances, key = lambda x: x[1], reverse = True)\n",
    "[print('Variable: {:20} Importance: {}'.format(*pair)) for pair in feature_importances];"
   ]
  },
  {
   "cell_type": "code",
   "execution_count": 13,
   "metadata": {},
   "outputs": [
    {
     "data": {
      "image/png": "[encoded data removed]",
      "text/plain": [
       "<Figure size 432x288 with 1 Axes>"
      ]
     },
     "metadata": {},
     "output_type": "display_data"
    }
   ],
   "source": [
    "plt.style.use('fivethirtyeight')\n",
    "x_values = list(range(len(importances)))\n",
    "plt.bar(x_values, importances, orientation = 'vertical')\n",
    "plt.xticks(x_values, df_delay.columns[:input_columns], rotation='vertical')\n",
    "plt.ylabel('Importance'); plt.xlabel('Variable'); plt.title('Variable Importances'); "
   ]
  },
  {
   "cell_type": "markdown",
   "metadata": {},
   "source": [
    "# Retraining with only the important features"
   ]
  },
  {
   "cell_type": "code",
   "execution_count": 14,
   "metadata": {},
   "outputs": [],
   "source": [
    "# New random forest with only the two most important variables\n",
    "rf_most_important = RandomForestRegressor(n_estimators= 1000, random_state=7)\n",
    "\n",
    "important_indices = [0, 2]\n",
    "train_important = X_delay[:, important_indices]\n",
    "test_important = X_test_delay[:, important_indices]\n",
    "\n",
    "rf_most_important.fit(train_important, y_delay)\n",
    "\n",
    "prediction_train = rf_most_important.predict(train_important)\n",
    "prediction_test = rf_most_important.predict(test_important)\n",
    "\n",
    "prediction_train2 = scalarY_delay.inverse_transform(prediction_train)\n",
    "prediction_test2 = scalarY_delay.inverse_transform(prediction_test)"
   ]
  },
  {
   "cell_type": "code",
   "execution_count": 15,
   "metadata": {},
   "outputs": [
    {
     "name": "stdout",
     "output_type": "stream",
     "text": [
      "Mean Train Accuracy: 99.02 %\n"
     ]
    }
   ],
   "source": [
    "sum=0\n",
    "count=0\n",
    "for i in range(train_length):\n",
    "    for j in range(output_columns):        \n",
    "        error = abs(prediction_train2[i,j] - y_2_delay[i,j])/(y_2_delay[i,j])\n",
    "        sum+=error\n",
    "print(\"Mean Train Accuracy: {:.2f} %\".format(100 - (sum/(train_length*output_columns) * 100)))"
   ]
  },
  {
   "cell_type": "code",
   "execution_count": 16,
   "metadata": {},
   "outputs": [
    {
     "name": "stdout",
     "output_type": "stream",
     "text": [
      "Mean Test Accuracy: 97.36 %\n"
     ]
    }
   ],
   "source": [
    "sum=0\n",
    "count=0\n",
    "for i in range(val_length):\n",
    "    for j in range(output_columns):  \n",
    "        error = abs(prediction_test2[i,j] - y_test_delay[i,j])/(y_test_delay[i,j])\n",
    "        sum+=error    \n",
    "print(\"Mean Test Accuracy: {:.2f} %\".format(100 - (sum/(val_length*output_columns) * 100)))"
   ]
  },
  {
   "cell_type": "code",
   "execution_count": 17,
   "metadata": {},
   "outputs": [
    {
     "name": "stdout",
     "output_type": "stream",
     "text": [
      "The depth of this tree is: 25\n"
     ]
    }
   ],
   "source": [
    "tree = rf_most_important.estimators_[5]\n",
    "print('The depth of this tree is:', tree.tree_.max_depth)"
   ]
  }
 ],
 "metadata": {
  "kernelspec": {
   "display_name": "Python 3",
   "language": "python",
   "name": "python3"
  },
  "language_info": {
   "codemirror_mode": {
    "name": "ipython",
    "version": 3
   },
   "file_extension": ".py",
   "mimetype": "text/x-python",
   "name": "python",
   "nbconvert_exporter": "python",
   "pygments_lexer": "ipython3",
   "version": "3.8.5"
  }
 },
 "nbformat": 4,
 "nbformat_minor": 4
}
