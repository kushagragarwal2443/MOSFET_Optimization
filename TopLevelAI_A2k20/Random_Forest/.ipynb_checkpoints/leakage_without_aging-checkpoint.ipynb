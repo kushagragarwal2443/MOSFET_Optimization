{
 "cells": [
  {
   "cell_type": "code",
   "execution_count": 1,
   "metadata": {},
   "outputs": [],
   "source": [
    "import pandas as pd\n",
    "from pandas import read_excel\n",
    "from keras.models import Sequential\n",
    "from keras.layers import Dense, Dropout\n",
    "from keras.optimizers import Adam\n",
    "from sklearn.preprocessing import MinMaxScaler\n",
    "from sklearn.preprocessing import StandardScaler\n",
    "from sklearn.metrics import r2_score\n",
    "from sklearn.utils import shuffle\n",
    "from sklearn.metrics import mean_squared_error \n",
    "import numpy as np\n",
    "from scipy.stats import pearsonr\n",
    "from scipy.stats import spearmanr\n",
    "import seaborn as sns\n",
    "import matplotlib.pyplot as plt\n",
    "from sklearn.ensemble import RandomForestRegressor\n",
    "from sklearn.tree import export_graphviz\n",
    "import pydot\n",
    "import matplotlib.pyplot as plt\n",
    "%matplotlib inline"
   ]
  },
  {
   "cell_type": "code",
   "execution_count": 2,
   "metadata": {},
   "outputs": [
    {
     "data": {
      "text/html": [
       "<div>\n",
       "<style scoped>\n",
       "    .dataframe tbody tr th:only-of-type {\n",
       "        vertical-align: middle;\n",
       "    }\n",
       "\n",
       "    .dataframe tbody tr th {\n",
       "        vertical-align: top;\n",
       "    }\n",
       "\n",
       "    .dataframe thead th {\n",
       "        text-align: right;\n",
       "    }\n",
       "</style>\n",
       "<table border=\"1\" class=\"dataframe\">\n",
       "  <thead>\n",
       "    <tr style=\"text-align: right;\">\n",
       "      <th></th>\n",
       "      <th>temp</th>\n",
       "      <th>pvdd</th>\n",
       "      <th>cqload</th>\n",
       "      <th>nbodyn</th>\n",
       "      <th>nsdp</th>\n",
       "      <th>nc0subn</th>\n",
       "      <th>toxpn</th>\n",
       "      <th>hfinp</th>\n",
       "      <th>ni0subp</th>\n",
       "      <th>eotn</th>\n",
       "      <th>...</th>\n",
       "      <th>eotp</th>\n",
       "      <th>nbodyp</th>\n",
       "      <th>hfinn</th>\n",
       "      <th>tfinp</th>\n",
       "      <th>nc0subp</th>\n",
       "      <th>leak_and2</th>\n",
       "      <th>leak_nand2</th>\n",
       "      <th>leak_nor2</th>\n",
       "      <th>leak_xor2</th>\n",
       "      <th>leak_xnor2</th>\n",
       "    </tr>\n",
       "  </thead>\n",
       "  <tbody>\n",
       "    <tr>\n",
       "      <th>12699</th>\n",
       "      <td>-42.170891</td>\n",
       "      <td>0.837854</td>\n",
       "      <td>2.982289</td>\n",
       "      <td>1.030000e+23</td>\n",
       "      <td>2.980000e+26</td>\n",
       "      <td>2.840000e+25</td>\n",
       "      <td>1.420000e-09</td>\n",
       "      <td>2.540000e-08</td>\n",
       "      <td>1.140000e+16</td>\n",
       "      <td>7.860000e-10</td>\n",
       "      <td>...</td>\n",
       "      <td>8.090000e-10</td>\n",
       "      <td>9.940000e+22</td>\n",
       "      <td>2.480000e-08</td>\n",
       "      <td>1.200000e-08</td>\n",
       "      <td>2.800000e+25</td>\n",
       "      <td>9.530000e-09</td>\n",
       "      <td>1.400000e-09</td>\n",
       "      <td>1.230000e-08</td>\n",
       "      <td>4.210000e-08</td>\n",
       "      <td>4.830000e-08</td>\n",
       "    </tr>\n",
       "    <tr>\n",
       "      <th>11357</th>\n",
       "      <td>118.904181</td>\n",
       "      <td>0.829675</td>\n",
       "      <td>2.201095</td>\n",
       "      <td>9.840000e+22</td>\n",
       "      <td>2.970000e+26</td>\n",
       "      <td>3.030000e+25</td>\n",
       "      <td>1.400000e-09</td>\n",
       "      <td>2.590000e-08</td>\n",
       "      <td>1.080000e+16</td>\n",
       "      <td>7.510000e-10</td>\n",
       "      <td>...</td>\n",
       "      <td>8.270000e-10</td>\n",
       "      <td>9.780000e+22</td>\n",
       "      <td>2.670000e-08</td>\n",
       "      <td>1.200000e-08</td>\n",
       "      <td>2.870000e+25</td>\n",
       "      <td>1.210000e-08</td>\n",
       "      <td>8.850000e-10</td>\n",
       "      <td>6.080000e-09</td>\n",
       "      <td>4.650000e-08</td>\n",
       "      <td>4.960000e-08</td>\n",
       "    </tr>\n",
       "    <tr>\n",
       "      <th>10727</th>\n",
       "      <td>18.970732</td>\n",
       "      <td>0.785929</td>\n",
       "      <td>0.801588</td>\n",
       "      <td>9.990000e+22</td>\n",
       "      <td>2.910000e+26</td>\n",
       "      <td>2.910000e+25</td>\n",
       "      <td>1.410000e-09</td>\n",
       "      <td>2.710000e-08</td>\n",
       "      <td>1.100000e+16</td>\n",
       "      <td>8.420000e-10</td>\n",
       "      <td>...</td>\n",
       "      <td>8.090000e-10</td>\n",
       "      <td>9.900000e+22</td>\n",
       "      <td>2.810000e-08</td>\n",
       "      <td>1.170000e-08</td>\n",
       "      <td>2.900000e+25</td>\n",
       "      <td>8.320000e-09</td>\n",
       "      <td>1.710000e-09</td>\n",
       "      <td>1.460000e-08</td>\n",
       "      <td>3.900000e-08</td>\n",
       "      <td>4.630000e-08</td>\n",
       "    </tr>\n",
       "    <tr>\n",
       "      <th>4091</th>\n",
       "      <td>118.054073</td>\n",
       "      <td>0.826353</td>\n",
       "      <td>2.167340</td>\n",
       "      <td>9.800000e+22</td>\n",
       "      <td>2.880000e+26</td>\n",
       "      <td>2.920000e+25</td>\n",
       "      <td>1.340000e-09</td>\n",
       "      <td>2.520000e-08</td>\n",
       "      <td>1.020000e+16</td>\n",
       "      <td>7.630000e-10</td>\n",
       "      <td>...</td>\n",
       "      <td>8.210000e-10</td>\n",
       "      <td>9.950000e+22</td>\n",
       "      <td>2.680000e-08</td>\n",
       "      <td>1.220000e-08</td>\n",
       "      <td>3.020000e+25</td>\n",
       "      <td>1.190000e-08</td>\n",
       "      <td>1.070000e-09</td>\n",
       "      <td>7.940000e-09</td>\n",
       "      <td>4.740000e-08</td>\n",
       "      <td>5.140000e-08</td>\n",
       "    </tr>\n",
       "    <tr>\n",
       "      <th>10192</th>\n",
       "      <td>-54.134038</td>\n",
       "      <td>0.785893</td>\n",
       "      <td>1.885885</td>\n",
       "      <td>1.020000e+23</td>\n",
       "      <td>3.000000e+26</td>\n",
       "      <td>2.800000e+25</td>\n",
       "      <td>1.390000e-09</td>\n",
       "      <td>2.730000e-08</td>\n",
       "      <td>1.160000e+16</td>\n",
       "      <td>8.010000e-10</td>\n",
       "      <td>...</td>\n",
       "      <td>7.870000e-10</td>\n",
       "      <td>9.720000e+22</td>\n",
       "      <td>2.520000e-08</td>\n",
       "      <td>1.210000e-08</td>\n",
       "      <td>3.020000e+25</td>\n",
       "      <td>7.440000e-09</td>\n",
       "      <td>1.040000e-09</td>\n",
       "      <td>7.390000e-09</td>\n",
       "      <td>3.100000e-08</td>\n",
       "      <td>3.470000e-08</td>\n",
       "    </tr>\n",
       "  </tbody>\n",
       "</table>\n",
       "<p>5 rows × 25 columns</p>\n",
       "</div>"
      ],
      "text/plain": [
       "             temp      pvdd    cqload        nbodyn          nsdp  \\\n",
       "12699  -42.170891  0.837854  2.982289  1.030000e+23  2.980000e+26   \n",
       "11357  118.904181  0.829675  2.201095  9.840000e+22  2.970000e+26   \n",
       "10727   18.970732  0.785929  0.801588  9.990000e+22  2.910000e+26   \n",
       "4091   118.054073  0.826353  2.167340  9.800000e+22  2.880000e+26   \n",
       "10192  -54.134038  0.785893  1.885885  1.020000e+23  3.000000e+26   \n",
       "\n",
       "            nc0subn         toxpn         hfinp       ni0subp          eotn  \\\n",
       "12699  2.840000e+25  1.420000e-09  2.540000e-08  1.140000e+16  7.860000e-10   \n",
       "11357  3.030000e+25  1.400000e-09  2.590000e-08  1.080000e+16  7.510000e-10   \n",
       "10727  2.910000e+25  1.410000e-09  2.710000e-08  1.100000e+16  8.420000e-10   \n",
       "4091   2.920000e+25  1.340000e-09  2.520000e-08  1.020000e+16  7.630000e-10   \n",
       "10192  2.800000e+25  1.390000e-09  2.730000e-08  1.160000e+16  8.010000e-10   \n",
       "\n",
       "       ...          eotp        nbodyp         hfinn         tfinp  \\\n",
       "12699  ...  8.090000e-10  9.940000e+22  2.480000e-08  1.200000e-08   \n",
       "11357  ...  8.270000e-10  9.780000e+22  2.670000e-08  1.200000e-08   \n",
       "10727  ...  8.090000e-10  9.900000e+22  2.810000e-08  1.170000e-08   \n",
       "4091   ...  8.210000e-10  9.950000e+22  2.680000e-08  1.220000e-08   \n",
       "10192  ...  7.870000e-10  9.720000e+22  2.520000e-08  1.210000e-08   \n",
       "\n",
       "            nc0subp     leak_and2    leak_nand2     leak_nor2     leak_xor2  \\\n",
       "12699  2.800000e+25  9.530000e-09  1.400000e-09  1.230000e-08  4.210000e-08   \n",
       "11357  2.870000e+25  1.210000e-08  8.850000e-10  6.080000e-09  4.650000e-08   \n",
       "10727  2.900000e+25  8.320000e-09  1.710000e-09  1.460000e-08  3.900000e-08   \n",
       "4091   3.020000e+25  1.190000e-08  1.070000e-09  7.940000e-09  4.740000e-08   \n",
       "10192  3.020000e+25  7.440000e-09  1.040000e-09  7.390000e-09  3.100000e-08   \n",
       "\n",
       "         leak_xnor2  \n",
       "12699  4.830000e-08  \n",
       "11357  4.960000e-08  \n",
       "10727  4.630000e-08  \n",
       "4091   5.140000e-08  \n",
       "10192  3.470000e-08  \n",
       "\n",
       "[5 rows x 25 columns]"
      ]
     },
     "execution_count": 2,
     "metadata": {},
     "output_type": "execute_result"
    }
   ],
   "source": [
    "df_leakage=pd.read_csv(\"../data/LeakagesWithoutAging.csv\", sep=\",\")\n",
    "df_leakage = df_leakage.head(14998)\n",
    "df_leakage = df_leakage.drop([\"Vin_A\", \"Vin_B\"], axis=1)\n",
    "df_leakage = shuffle(df_leakage)\n",
    "df_leakage.head(5)"
   ]
  },
  {
   "cell_type": "code",
   "execution_count": 3,
   "metadata": {},
   "outputs": [
    {
     "name": "stdout",
     "output_type": "stream",
     "text": [
      "14998\n",
      "11998 3000\n"
     ]
    }
   ],
   "source": [
    "print(len(df_leakage))\n",
    "train_length = int(0.8*len(df_leakage))\n",
    "val_length = len(df_leakage) - train_length\n",
    "print(train_length, val_length)\n",
    "\n",
    "input_columns=20\n",
    "output_columns=5"
   ]
  },
  {
   "cell_type": "code",
   "execution_count": 4,
   "metadata": {},
   "outputs": [],
   "source": [
    "dataset_leakage = df_leakage.values\n",
    "X_leakage = dataset_leakage[:train_length,0:input_columns]\n",
    "y_leakage = dataset_leakage[:train_length,input_columns:]"
   ]
  },
  {
   "cell_type": "code",
   "execution_count": 5,
   "metadata": {},
   "outputs": [],
   "source": [
    "scalarX_leakage, scalarY_leakage = MinMaxScaler(), MinMaxScaler()\n",
    "scalarX_leakage.fit(X_leakage)\n",
    "scalarY_leakage.fit(y_leakage.reshape(train_length,output_columns))\n",
    "X_leakage = scalarX_leakage.transform(X_leakage)\n",
    "y_leakage = scalarY_leakage.transform(y_leakage.reshape(train_length,output_columns))"
   ]
  },
  {
   "cell_type": "code",
   "execution_count": 14,
   "metadata": {},
   "outputs": [],
   "source": [
    "rf_leakage = RandomForestRegressor(n_estimators= 500, criterion = 'mse', max_depth = None)\n",
    "rf_leakage.fit(X_leakage, y_leakage);"
   ]
  },
  {
   "cell_type": "code",
   "execution_count": 15,
   "metadata": {},
   "outputs": [],
   "source": [
    "X_test_leakage = dataset_leakage[train_length:,0:input_columns]\n",
    "y_test_leakage = dataset_leakage[train_length:,input_columns:]\n",
    "\n",
    "X_test_leakage = scalarX_leakage.transform(X_test_leakage)\n",
    "y_testpred_leakage = rf_leakage.predict(X_test_leakage)\n",
    "y_testpred2_leakage = scalarY_leakage.inverse_transform(y_testpred_leakage)\n",
    "\n",
    "y_trainpred_leakage = rf_leakage.predict(X_leakage)\n",
    "y_trainpred2_leakage = scalarY_leakage.inverse_transform(y_trainpred_leakage)\n",
    "\n",
    "y_2_leakage = scalarY_leakage.inverse_transform(y_leakage)"
   ]
  },
  {
   "cell_type": "code",
   "execution_count": 16,
   "metadata": {},
   "outputs": [
    {
     "name": "stdout",
     "output_type": "stream",
     "text": [
      "Train R2 Score for leak_and2 : 0.9895357297891548\n",
      "Test  R2 Score for leak_and2 : 0.9367648058736792\n",
      "\n",
      "Train R2 Score for leak_nand2 : 0.9929285920070154\n",
      "Test  R2 Score for leak_nand2 : 0.9412063829200541\n",
      "\n",
      "Train R2 Score for leak_nor2 : 0.9918498846740814\n",
      "Test  R2 Score for leak_nor2 : 0.9349508762878047\n",
      "\n",
      "Train R2 Score for leak_xor2 : 0.9908144835896144\n",
      "Test  R2 Score for leak_xor2 : 0.9430113520536296\n",
      "\n",
      "Train R2 Score for leak_xnor2 : 0.9913616244329044\n",
      "Test  R2 Score for leak_xnor2 : 0.9454011398996978\n",
      "\n"
     ]
    }
   ],
   "source": [
    "for i in range(output_columns):\n",
    "    r2_train = r2_score(y_trainpred2_leakage[:,i], y_2_leakage[:,i])\n",
    "    r2_test = r2_score(y_testpred2_leakage[:,i], y_test_leakage[:,i])\n",
    "    print(\"Train R2 Score for \"+df_leakage.columns[input_columns+i]+\" : \"+str(r2_train))\n",
    "    print(\"Test  R2 Score for \"+df_leakage.columns[input_columns+i]+\" : \"+str(r2_test))\n",
    "    print()"
   ]
  },
  {
   "cell_type": "code",
   "execution_count": 17,
   "metadata": {},
   "outputs": [
    {
     "name": "stdout",
     "output_type": "stream",
     "text": [
      "Mean Train Accuracy: 97.22 %\n"
     ]
    }
   ],
   "source": [
    "sum=0\n",
    "count=0\n",
    "for i in range(train_length):\n",
    "    for j in range(output_columns):        \n",
    "        error = abs(y_trainpred2_leakage[i,j] - y_2_leakage[i,j])/(y_2_leakage[i,j])\n",
    "        sum+=error\n",
    "print(\"Mean Train Accuracy: {:.2f} %\".format(100 - (sum/(train_length*output_columns) * 100)))"
   ]
  },
  {
   "cell_type": "code",
   "execution_count": 18,
   "metadata": {},
   "outputs": [
    {
     "name": "stdout",
     "output_type": "stream",
     "text": [
      "Mean Test Accuracy: 92.56 %\n"
     ]
    }
   ],
   "source": [
    "sum=0\n",
    "count=0\n",
    "for i in range(val_length):\n",
    "    for j in range(output_columns):  \n",
    "        error = abs(y_testpred2_leakage[i,j] - y_test_leakage[i,j])/(y_test_leakage[i,j])\n",
    "        sum+=error    \n",
    "print(\"Mean Test Accuracy: {:.2f} %\".format(100 - (sum/(val_length*output_columns) * 100)))"
   ]
  },
  {
   "cell_type": "code",
   "execution_count": 19,
   "metadata": {},
   "outputs": [
    {
     "name": "stdout",
     "output_type": "stream",
     "text": [
      "The depth of this tree is: 24\n"
     ]
    }
   ],
   "source": [
    "tree = rf_leakage.estimators_[5]\n",
    "print('The depth of this tree is:', tree.tree_.max_depth)"
   ]
  },
  {
   "cell_type": "code",
   "execution_count": 20,
   "metadata": {},
   "outputs": [
    {
     "name": "stdout",
     "output_type": "stream",
     "text": [
      "Variable: lg                   Importance: 0.55\n",
      "Variable: tfinn                Importance: 0.23\n",
      "Variable: tfinp                Importance: 0.13\n",
      "Variable: pvdd                 Importance: 0.02\n",
      "Variable: eotn                 Importance: 0.02\n",
      "Variable: eotp                 Importance: 0.01\n",
      "Variable: hfinn                Importance: 0.01\n",
      "Variable: temp                 Importance: 0.0\n",
      "Variable: cqload               Importance: 0.0\n",
      "Variable: nbodyn               Importance: 0.0\n",
      "Variable: nsdp                 Importance: 0.0\n",
      "Variable: nc0subn              Importance: 0.0\n",
      "Variable: toxpn                Importance: 0.0\n",
      "Variable: hfinp                Importance: 0.0\n",
      "Variable: ni0subp              Importance: 0.0\n",
      "Variable: ni0subn              Importance: 0.0\n",
      "Variable: toxpp                Importance: 0.0\n",
      "Variable: nsdn                 Importance: 0.0\n",
      "Variable: nbodyp               Importance: 0.0\n",
      "Variable: nc0subp              Importance: 0.0\n"
     ]
    }
   ],
   "source": [
    "importances = list(rf_leakage.feature_importances_)\n",
    "feature_importances = [(feature, round(importance, 2)) for feature, importance in zip(df_leakage.columns[:input_columns], importances)]\n",
    "feature_importances = sorted(feature_importances, key = lambda x: x[1], reverse = True)\n",
    "[print('Variable: {:20} Importance: {}'.format(*pair)) for pair in feature_importances];"
   ]
  },
  {
   "cell_type": "code",
   "execution_count": 21,
   "metadata": {},
   "outputs": [
    {
     "data": {
      "image/png": "[encoded data removed]",
      "text/plain": [
       "<Figure size 432x288 with 1 Axes>"
      ]
     },
     "metadata": {},
     "output_type": "display_data"
    }
   ],
   "source": [
    "plt.style.use('fivethirtyeight')\n",
    "x_values = list(range(len(importances)))\n",
    "plt.bar(x_values, importances, orientation = 'vertical')\n",
    "plt.xticks(x_values, df_leakage.columns[:input_columns], rotation='vertical')\n",
    "plt.ylabel('Importance'); plt.xlabel('Variable'); plt.title('Variable Importances'); "
   ]
  }
 ],
 "metadata": {
  "kernelspec": {
   "display_name": "Python 3",
   "language": "python",
   "name": "python3"
  },
  "language_info": {
   "codemirror_mode": {
    "name": "ipython",
    "version": 3
   },
   "file_extension": ".py",
   "mimetype": "text/x-python",
   "name": "python",
   "nbconvert_exporter": "python",
   "pygments_lexer": "ipython3",
   "version": "3.8.5"
  }
 },
 "nbformat": 4,
 "nbformat_minor": 4
}
