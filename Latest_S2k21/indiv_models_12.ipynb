{
 "cells": [
  {
   "cell_type": "code",
   "execution_count": 1,
   "metadata": {},
   "outputs": [],
   "source": [
    "import pandas as pd\n",
    "from pandas import read_excel\n",
    "from keras.models import Sequential\n",
    "from keras.layers import Dense, Dropout\n",
    "from keras.optimizers import Adam\n",
    "from sklearn.preprocessing import MinMaxScaler\n",
    "from sklearn.preprocessing import StandardScaler\n",
    "from sklearn.metrics import r2_score\n",
    "from sklearn.utils import shuffle\n",
    "from sklearn.metrics import mean_squared_error \n",
    "import numpy as np\n",
    "from scipy.stats import pearsonr\n",
    "from scipy.stats import spearmanr\n",
    "import seaborn as sns\n",
    "import matplotlib.pyplot as plt\n",
    "import keras\n",
    "from keras.models import model_from_json"
   ]
  },
  {
   "cell_type": "code",
   "execution_count": 2,
   "metadata": {},
   "outputs": [
    {
     "data": {
      "text/html": [
       "<div>\n",
       "<style scoped>\n",
       "    .dataframe tbody tr th:only-of-type {\n",
       "        vertical-align: middle;\n",
       "    }\n",
       "\n",
       "    .dataframe tbody tr th {\n",
       "        vertical-align: top;\n",
       "    }\n",
       "\n",
       "    .dataframe thead th {\n",
       "        text-align: right;\n",
       "    }\n",
       "</style>\n",
       "<table border=\"1\" class=\"dataframe\">\n",
       "  <thead>\n",
       "    <tr style=\"text-align: right;\">\n",
       "      <th></th>\n",
       "      <th>temper</th>\n",
       "      <th>pvdd</th>\n",
       "      <th>cqload</th>\n",
       "      <th>lp1</th>\n",
       "      <th>lp2</th>\n",
       "      <th>lp3</th>\n",
       "      <th>lp4</th>\n",
       "      <th>lp5</th>\n",
       "      <th>lp6</th>\n",
       "      <th>lp7</th>\n",
       "      <th>...</th>\n",
       "      <th>delay_hl_nodebso</th>\n",
       "      <th>delay_lh_nodecso</th>\n",
       "      <th>delay_hl_nodecso</th>\n",
       "      <th>delay_lh_nodeaco</th>\n",
       "      <th>delay_hl_nodeaco</th>\n",
       "      <th>delay_lh_nodebco</th>\n",
       "      <th>delay_hl_nodebco</th>\n",
       "      <th>delay_lh_nodecco</th>\n",
       "      <th>delay_hl_nodecco</th>\n",
       "      <th>power</th>\n",
       "    </tr>\n",
       "  </thead>\n",
       "  <tbody>\n",
       "    <tr>\n",
       "      <th>48298</th>\n",
       "      <td>58.0</td>\n",
       "      <td>1.09</td>\n",
       "      <td>2.740000e-16</td>\n",
       "      <td>2.400000e-08</td>\n",
       "      <td>3.300000e-08</td>\n",
       "      <td>2.300000e-08</td>\n",
       "      <td>2.300000e-08</td>\n",
       "      <td>2.800000e-08</td>\n",
       "      <td>2.500000e-08</td>\n",
       "      <td>3.100000e-08</td>\n",
       "      <td>...</td>\n",
       "      <td>3.990000e-11</td>\n",
       "      <td>5.230000e-11</td>\n",
       "      <td>4.280000e-11</td>\n",
       "      <td>8.160000e-11</td>\n",
       "      <td>5.860000e-12</td>\n",
       "      <td>2.480000e-11</td>\n",
       "      <td>1.230000e-11</td>\n",
       "      <td>6.830000e-11</td>\n",
       "      <td>1.010000e-11</td>\n",
       "      <td>0.000012</td>\n",
       "    </tr>\n",
       "    <tr>\n",
       "      <th>12994</th>\n",
       "      <td>77.0</td>\n",
       "      <td>1.10</td>\n",
       "      <td>2.660000e-16</td>\n",
       "      <td>2.700000e-08</td>\n",
       "      <td>2.800000e-08</td>\n",
       "      <td>3.000000e-08</td>\n",
       "      <td>3.100000e-08</td>\n",
       "      <td>3.100000e-08</td>\n",
       "      <td>2.800000e-08</td>\n",
       "      <td>3.200000e-08</td>\n",
       "      <td>...</td>\n",
       "      <td>6.600000e-11</td>\n",
       "      <td>1.460000e-11</td>\n",
       "      <td>1.530000e-10</td>\n",
       "      <td>7.540000e-12</td>\n",
       "      <td>5.760000e-11</td>\n",
       "      <td>9.050000e-12</td>\n",
       "      <td>2.700000e-11</td>\n",
       "      <td>7.320000e-12</td>\n",
       "      <td>5.960000e-11</td>\n",
       "      <td>0.000017</td>\n",
       "    </tr>\n",
       "    <tr>\n",
       "      <th>45691</th>\n",
       "      <td>115.0</td>\n",
       "      <td>0.91</td>\n",
       "      <td>4.780000e-16</td>\n",
       "      <td>2.400000e-08</td>\n",
       "      <td>2.500000e-08</td>\n",
       "      <td>2.900000e-08</td>\n",
       "      <td>2.900000e-08</td>\n",
       "      <td>3.100000e-08</td>\n",
       "      <td>3.300000e-08</td>\n",
       "      <td>2.600000e-08</td>\n",
       "      <td>...</td>\n",
       "      <td>8.480000e-11</td>\n",
       "      <td>4.230000e-11</td>\n",
       "      <td>4.400000e-11</td>\n",
       "      <td>8.830000e-12</td>\n",
       "      <td>5.040000e-11</td>\n",
       "      <td>3.070000e-11</td>\n",
       "      <td>7.030000e-11</td>\n",
       "      <td>2.360000e-11</td>\n",
       "      <td>3.040000e-11</td>\n",
       "      <td>0.000008</td>\n",
       "    </tr>\n",
       "    <tr>\n",
       "      <th>23927</th>\n",
       "      <td>122.0</td>\n",
       "      <td>0.98</td>\n",
       "      <td>2.740000e-15</td>\n",
       "      <td>2.500000e-08</td>\n",
       "      <td>3.200000e-08</td>\n",
       "      <td>2.300000e-08</td>\n",
       "      <td>3.000000e-08</td>\n",
       "      <td>2.400000e-08</td>\n",
       "      <td>3.200000e-08</td>\n",
       "      <td>3.200000e-08</td>\n",
       "      <td>...</td>\n",
       "      <td>9.500000e-11</td>\n",
       "      <td>4.440000e-11</td>\n",
       "      <td>7.210000e-11</td>\n",
       "      <td>1.480000e-11</td>\n",
       "      <td>4.340000e-11</td>\n",
       "      <td>1.890000e-11</td>\n",
       "      <td>7.190000e-11</td>\n",
       "      <td>1.490000e-11</td>\n",
       "      <td>4.230000e-11</td>\n",
       "      <td>0.000012</td>\n",
       "    </tr>\n",
       "    <tr>\n",
       "      <th>5186</th>\n",
       "      <td>47.0</td>\n",
       "      <td>1.08</td>\n",
       "      <td>3.310000e-15</td>\n",
       "      <td>2.900000e-08</td>\n",
       "      <td>2.400000e-08</td>\n",
       "      <td>2.700000e-08</td>\n",
       "      <td>3.200000e-08</td>\n",
       "      <td>2.600000e-08</td>\n",
       "      <td>2.600000e-08</td>\n",
       "      <td>2.200000e-08</td>\n",
       "      <td>...</td>\n",
       "      <td>6.890000e-11</td>\n",
       "      <td>2.420000e-11</td>\n",
       "      <td>5.520000e-11</td>\n",
       "      <td>2.000000e-11</td>\n",
       "      <td>7.330000e-11</td>\n",
       "      <td>9.740000e-12</td>\n",
       "      <td>5.080000e-11</td>\n",
       "      <td>1.180000e-11</td>\n",
       "      <td>3.620000e-11</td>\n",
       "      <td>0.000020</td>\n",
       "    </tr>\n",
       "  </tbody>\n",
       "</table>\n",
       "<p>5 rows × 83 columns</p>\n",
       "</div>"
      ],
      "text/plain": [
       "       temper  pvdd        cqload           lp1           lp2           lp3  \\\n",
       "48298    58.0  1.09  2.740000e-16  2.400000e-08  3.300000e-08  2.300000e-08   \n",
       "12994    77.0  1.10  2.660000e-16  2.700000e-08  2.800000e-08  3.000000e-08   \n",
       "45691   115.0  0.91  4.780000e-16  2.400000e-08  2.500000e-08  2.900000e-08   \n",
       "23927   122.0  0.98  2.740000e-15  2.500000e-08  3.200000e-08  2.300000e-08   \n",
       "5186     47.0  1.08  3.310000e-15  2.900000e-08  2.400000e-08  2.700000e-08   \n",
       "\n",
       "                lp4           lp5           lp6           lp7  ...  \\\n",
       "48298  2.300000e-08  2.800000e-08  2.500000e-08  3.100000e-08  ...   \n",
       "12994  3.100000e-08  3.100000e-08  2.800000e-08  3.200000e-08  ...   \n",
       "45691  2.900000e-08  3.100000e-08  3.300000e-08  2.600000e-08  ...   \n",
       "23927  3.000000e-08  2.400000e-08  3.200000e-08  3.200000e-08  ...   \n",
       "5186   3.200000e-08  2.600000e-08  2.600000e-08  2.200000e-08  ...   \n",
       "\n",
       "       delay_hl_nodebso  delay_lh_nodecso  delay_hl_nodecso  delay_lh_nodeaco  \\\n",
       "48298      3.990000e-11      5.230000e-11      4.280000e-11      8.160000e-11   \n",
       "12994      6.600000e-11      1.460000e-11      1.530000e-10      7.540000e-12   \n",
       "45691      8.480000e-11      4.230000e-11      4.400000e-11      8.830000e-12   \n",
       "23927      9.500000e-11      4.440000e-11      7.210000e-11      1.480000e-11   \n",
       "5186       6.890000e-11      2.420000e-11      5.520000e-11      2.000000e-11   \n",
       "\n",
       "       delay_hl_nodeaco  delay_lh_nodebco  delay_hl_nodebco  delay_lh_nodecco  \\\n",
       "48298      5.860000e-12      2.480000e-11      1.230000e-11      6.830000e-11   \n",
       "12994      5.760000e-11      9.050000e-12      2.700000e-11      7.320000e-12   \n",
       "45691      5.040000e-11      3.070000e-11      7.030000e-11      2.360000e-11   \n",
       "23927      4.340000e-11      1.890000e-11      7.190000e-11      1.490000e-11   \n",
       "5186       7.330000e-11      9.740000e-12      5.080000e-11      1.180000e-11   \n",
       "\n",
       "       delay_hl_nodecco     power  \n",
       "48298      1.010000e-11  0.000012  \n",
       "12994      5.960000e-11  0.000017  \n",
       "45691      3.040000e-11  0.000008  \n",
       "23927      4.230000e-11  0.000012  \n",
       "5186       3.620000e-11  0.000020  \n",
       "\n",
       "[5 rows x 83 columns]"
      ]
     },
     "execution_count": 2,
     "metadata": {},
     "output_type": "execute_result"
    }
   ],
   "source": [
    "df_delay=pd.read_csv(\"./data/Delays.csv\", sep=\",\")\n",
    "df_delay = shuffle(df_delay)\n",
    "df_delay = df_delay.drop(columns=[\"alter#\", \"index\"])\n",
    "df_delay.head(5)"
   ]
  },
  {
   "cell_type": "code",
   "execution_count": 3,
   "metadata": {},
   "outputs": [
    {
     "name": "stdout",
     "output_type": "stream",
     "text": [
      "Index(['temper', 'pvdd', 'cqload', 'lp1', 'lp2', 'lp3', 'lp4', 'lp5', 'lp6',\n",
      "       'lp7', 'lp8', 'lp9', 'lp10', 'lp11', 'lp12', 'lp13', 'lp14', 'ln1',\n",
      "       'ln2', 'ln3', 'ln4', 'ln5', 'ln6', 'ln7', 'ln8', 'ln9', 'ln10', 'ln11',\n",
      "       'ln12', 'ln13', 'ln14', 'wp1', 'wp2', 'wp3', 'wp4', 'wp5', 'wp6', 'wp7',\n",
      "       'wp8', 'wp9', 'wp10', 'wp11', 'wp12', 'wp13', 'wp14', 'wn1', 'wn2',\n",
      "       'wn3', 'wn4', 'wn5', 'wn6', 'wn7', 'wn8', 'wn9', 'wn10', 'wn11', 'wn12',\n",
      "       'wn13', 'wn14', 'toxe_n', 'toxm_n', 'toxref_n', 'toxe_p', 'toxm_p',\n",
      "       'toxref_p', 'toxp_par', 'xj_n', 'xj_p', 'ndep_n', 'ndep_p',\n",
      "       'delay_lh_nodeaso', 'delay_hl_nodeaso', 'delay_lh_nodebso',\n",
      "       'delay_hl_nodebso', 'delay_lh_nodecso', 'delay_hl_nodecso',\n",
      "       'delay_lh_nodeaco', 'delay_hl_nodeaco', 'delay_lh_nodebco',\n",
      "       'delay_hl_nodebco', 'delay_lh_nodecco', 'delay_hl_nodecco'],\n",
      "      dtype='object') 82\n"
     ]
    }
   ],
   "source": [
    "df_delay = df_delay.drop(columns = [\"power\"])\n",
    "print(df_delay.columns, len(df_delay.columns))"
   ]
  },
  {
   "cell_type": "code",
   "execution_count": 4,
   "metadata": {},
   "outputs": [
    {
     "name": "stdout",
     "output_type": "stream",
     "text": [
      "49995\n",
      "39996 9999\n"
     ]
    }
   ],
   "source": [
    "print(len(df_delay))\n",
    "train_length = int(0.8*len(df_delay))\n",
    "val_length = len(df_delay) - train_length\n",
    "print(train_length, val_length)\n",
    "\n",
    "input_columns = 70"
   ]
  },
  {
   "cell_type": "markdown",
   "metadata": {},
   "source": [
    "# Load pretrained model here"
   ]
  },
  {
   "cell_type": "code",
   "execution_count": 50,
   "metadata": {},
   "outputs": [
    {
     "name": "stdout",
     "output_type": "stream",
     "text": [
      "Do you want to load any saved model? Enter 1 for Yes and 0 for No: 1\n",
      "Enter Output Column Number: 3\n",
      "Enter train accuracy rounded to the nearest integer: 67\n",
      "Enter validation accuracy rounded to the nearest integer: 66\n",
      "Loaded model from disk\n"
     ]
    }
   ],
   "source": [
    "choice = int(input(\"Do you want to load any saved model? Enter 1 for Yes and 0 for No: \"))\n",
    "if(choice == 1):\n",
    "    \n",
    "    output_column = int(input(\"Enter Output Column Number: \"))\n",
    "    acc_tr = int(input(\"Enter train accuracy rounded to the nearest integer: \"))\n",
    "    acc_va = int(input(\"Enter validation accuracy rounded to the nearest integer: \"))\n",
    "    file_name = './models/model_' + str(output_column) + \"_\" + str(acc_tr) + \"_\" + str(acc_va)\n",
    "\n",
    "    # load json and create model\n",
    "    json_file = open(file_name + '.json', 'r')\n",
    "    loaded_model_json = json_file.read()\n",
    "    json_file.close()\n",
    "    model_delay = model_from_json(loaded_model_json)\n",
    "    # load weights into new model\n",
    "    model_delay.load_weights(file_name + \".h5\")\n",
    "    print(\"Loaded model from disk\")\n",
    "\n",
    "    # evaluate loaded model on test data\n",
    "    model_delay.compile(loss=keras.losses.categorical_crossentropy, optimizer='adam', metrics=['accuracy'])\n",
    "    "
   ]
  },
  {
   "cell_type": "raw",
   "metadata": {},
   "source": [
    "In case you want to check the results for this model, do not run the 3 cells corresponding to model fitting, i.e the one where model is defined, the one where training is done and the one with Loss vs epochs curves. Run everything else. Also do not save again"
   ]
  },
  {
   "cell_type": "markdown",
   "metadata": {},
   "source": [
    "# Enter column number and train"
   ]
  },
  {
   "cell_type": "code",
   "execution_count": 128,
   "metadata": {},
   "outputs": [],
   "source": [
    "output_column = "
   ]
  },
  {
   "cell_type": "markdown",
   "metadata": {},
   "source": [
    "### Defining input and output"
   ]
  },
  {
   "cell_type": "code",
   "execution_count": 129,
   "metadata": {},
   "outputs": [],
   "source": [
    "dataset_delay = df_delay.values\n",
    "X_delay = dataset_delay[:train_length,0:input_columns]\n",
    "y_delay = dataset_delay[:train_length,input_columns + output_column - 1].reshape(train_length, 1)"
   ]
  },
  {
   "cell_type": "code",
   "execution_count": 130,
   "metadata": {},
   "outputs": [],
   "source": [
    "#random_input_for_later_testing\n",
    "\n",
    "random_input_testing_value = X_delay[2]\n",
    "random_output_expected = y_delay[2]"
   ]
  },
  {
   "cell_type": "code",
   "execution_count": 131,
   "metadata": {},
   "outputs": [],
   "source": [
    "X_delay_valid = dataset_delay[train_length:,0:input_columns]\n",
    "y_delay_valid = dataset_delay[train_length:,input_columns + output_column - 1].reshape(val_length, 1)"
   ]
  },
  {
   "cell_type": "code",
   "execution_count": 132,
   "metadata": {},
   "outputs": [],
   "source": [
    "scalarX_delay, scalarY_delay = MinMaxScaler(), MinMaxScaler()\n",
    "scalarX_delay.fit(X_delay)\n",
    "scalarY_delay.fit(y_delay)\n",
    "X_delay = scalarX_delay.transform(X_delay)\n",
    "y_delay = scalarY_delay.transform(y_delay)"
   ]
  },
  {
   "cell_type": "code",
   "execution_count": 133,
   "metadata": {},
   "outputs": [],
   "source": [
    "X_delay_valid = scalarX_delay.transform(X_delay_valid)\n",
    "y_delay_valid = scalarY_delay.transform(y_delay_valid)"
   ]
  },
  {
   "cell_type": "markdown",
   "metadata": {},
   "source": [
    "### Training the Model"
   ]
  },
  {
   "cell_type": "code",
   "execution_count": 157,
   "metadata": {},
   "outputs": [
    {
     "name": "stdout",
     "output_type": "stream",
     "text": [
      "Model: \"sequential_6\"\n",
      "_________________________________________________________________\n",
      "Layer (type)                 Output Shape              Param #   \n",
      "=================================================================\n",
      "dense_54 (Dense)             (None, 128)               9088      \n",
      "_________________________________________________________________\n",
      "dense_55 (Dense)             (None, 256)               33024     \n",
      "_________________________________________________________________\n",
      "dense_56 (Dense)             (None, 128)               32896     \n",
      "_________________________________________________________________\n",
      "dense_57 (Dense)             (None, 16)                2064      \n",
      "_________________________________________________________________\n",
      "dense_58 (Dense)             (None, 4)                 68        \n",
      "_________________________________________________________________\n",
      "dense_59 (Dense)             (None, 1)                 5         \n",
      "=================================================================\n",
      "Total params: 77,145\n",
      "Trainable params: 77,145\n",
      "Non-trainable params: 0\n",
      "_________________________________________________________________\n",
      "None\n"
     ]
    }
   ],
   "source": [
    "model_delay = Sequential()\n",
    "model_delay.add(Dense(128, input_dim=input_columns, activation='relu'))\n",
    "model_delay.add(Dense(256, activation='relu'))\n",
    "model_delay.add(Dense(128, activation='relu'))\n",
    "model_delay.add(Dense(16, activation='relu'))\n",
    "model_delay.add(Dense(4, activation='relu'))\n",
    "model_delay.add(Dense(1, activation='linear'))\n",
    "model_delay.compile(optimizer=\"adam\", loss=\"mse\")\n",
    "print(model_delay.summary())"
   ]
  },
  {
   "cell_type": "code",
   "execution_count": 160,
   "metadata": {},
   "outputs": [
    {
     "name": "stdout",
     "output_type": "stream",
     "text": [
      "Epoch 1/100\n",
      "40/40 [==============================] - 0s 4ms/step - loss: 8.4515e-05 - val_loss: 5.5151e-04\n",
      "Epoch 2/100\n",
      "40/40 [==============================] - 0s 4ms/step - loss: 9.1811e-05 - val_loss: 4.6927e-04\n",
      "Epoch 3/100\n",
      "40/40 [==============================] - 0s 4ms/step - loss: 6.0965e-05 - val_loss: 4.4621e-04\n",
      "Epoch 4/100\n",
      "40/40 [==============================] - 0s 4ms/step - loss: 4.6751e-05 - val_loss: 4.3830e-04\n",
      "Epoch 5/100\n",
      "40/40 [==============================] - 0s 4ms/step - loss: 4.9024e-05 - val_loss: 4.4860e-04\n",
      "Epoch 6/100\n",
      "40/40 [==============================] - 0s 4ms/step - loss: 5.0563e-05 - val_loss: 4.4360e-04\n",
      "Epoch 7/100\n",
      "40/40 [==============================] - 0s 4ms/step - loss: 4.6643e-05 - val_loss: 4.4791e-04\n",
      "Epoch 8/100\n",
      "40/40 [==============================] - 0s 4ms/step - loss: 6.5325e-05 - val_loss: 4.6963e-04\n",
      "Epoch 9/100\n",
      "40/40 [==============================] - 0s 4ms/step - loss: 8.8488e-05 - val_loss: 4.6330e-04\n",
      "Epoch 10/100\n",
      "40/40 [==============================] - 0s 4ms/step - loss: 5.1180e-05 - val_loss: 4.4539e-04\n",
      "Epoch 11/100\n",
      "40/40 [==============================] - 0s 4ms/step - loss: 4.4644e-05 - val_loss: 4.3950e-04\n",
      "Epoch 12/100\n",
      "40/40 [==============================] - 0s 4ms/step - loss: 3.8116e-05 - val_loss: 4.4176e-04\n",
      "Epoch 13/100\n",
      "40/40 [==============================] - 0s 4ms/step - loss: 6.0152e-05 - val_loss: 5.4133e-04\n",
      "Epoch 14/100\n",
      "40/40 [==============================] - 0s 4ms/step - loss: 6.1705e-05 - val_loss: 4.6600e-04\n",
      "Epoch 15/100\n",
      "40/40 [==============================] - 0s 5ms/step - loss: 4.1354e-05 - val_loss: 4.4249e-04\n",
      "Epoch 16/100\n",
      "40/40 [==============================] - 0s 4ms/step - loss: 4.7744e-05 - val_loss: 4.5779e-04\n",
      "Epoch 17/100\n",
      "40/40 [==============================] - 0s 4ms/step - loss: 5.5891e-05 - val_loss: 4.7387e-04\n",
      "Epoch 18/100\n",
      "40/40 [==============================] - 0s 4ms/step - loss: 5.6715e-05 - val_loss: 4.5866e-04\n",
      "Epoch 19/100\n",
      "40/40 [==============================] - 0s 4ms/step - loss: 4.1706e-05 - val_loss: 4.3152e-04\n",
      "Epoch 20/100\n",
      "40/40 [==============================] - 0s 4ms/step - loss: 3.7102e-05 - val_loss: 4.3329e-04\n",
      "Epoch 21/100\n",
      "40/40 [==============================] - 0s 4ms/step - loss: 4.8018e-05 - val_loss: 4.7614e-04\n",
      "Epoch 22/100\n",
      "40/40 [==============================] - 0s 4ms/step - loss: 6.8399e-05 - val_loss: 4.5468e-04\n",
      "Epoch 23/100\n",
      "40/40 [==============================] - 0s 4ms/step - loss: 5.4002e-05 - val_loss: 4.3577e-04\n",
      "Epoch 24/100\n",
      "40/40 [==============================] - 0s 4ms/step - loss: 4.0138e-05 - val_loss: 4.3330e-04\n",
      "Epoch 25/100\n",
      "40/40 [==============================] - 0s 4ms/step - loss: 3.6082e-05 - val_loss: 4.4038e-04\n",
      "Epoch 26/100\n",
      "40/40 [==============================] - 0s 4ms/step - loss: 3.4781e-05 - val_loss: 4.3337e-04\n",
      "Epoch 27/100\n",
      "40/40 [==============================] - 0s 4ms/step - loss: 4.4816e-05 - val_loss: 4.3519e-04\n",
      "Epoch 28/100\n",
      "40/40 [==============================] - 0s 4ms/step - loss: 1.1943e-04 - val_loss: 5.1694e-04\n",
      "Epoch 29/100\n",
      "40/40 [==============================] - 0s 4ms/step - loss: 1.0090e-04 - val_loss: 4.5107e-04\n",
      "Epoch 30/100\n",
      "40/40 [==============================] - 0s 4ms/step - loss: 1.1418e-04 - val_loss: 4.5858e-04\n",
      "Epoch 31/100\n",
      "40/40 [==============================] - 0s 4ms/step - loss: 9.4153e-05 - val_loss: 4.5305e-04\n",
      "Epoch 32/100\n",
      "40/40 [==============================] - 0s 4ms/step - loss: 5.0240e-05 - val_loss: 4.4592e-04\n",
      "Epoch 33/100\n",
      "40/40 [==============================] - 0s 4ms/step - loss: 4.2559e-05 - val_loss: 4.2961e-04\n",
      "Epoch 34/100\n",
      "40/40 [==============================] - 0s 4ms/step - loss: 4.3532e-05 - val_loss: 4.2430e-04\n",
      "Epoch 35/100\n",
      "40/40 [==============================] - 0s 4ms/step - loss: 3.7819e-05 - val_loss: 4.3875e-04\n",
      "Epoch 36/100\n",
      "40/40 [==============================] - 0s 4ms/step - loss: 3.6864e-05 - val_loss: 4.3601e-04\n",
      "Epoch 37/100\n",
      "40/40 [==============================] - 0s 4ms/step - loss: 3.2986e-05 - val_loss: 4.1664e-04\n",
      "Epoch 38/100\n",
      "40/40 [==============================] - 0s 5ms/step - loss: 3.0905e-05 - val_loss: 4.3345e-04\n",
      "Epoch 39/100\n",
      "40/40 [==============================] - 0s 5ms/step - loss: 3.4189e-05 - val_loss: 4.2369e-04\n",
      "Epoch 40/100\n",
      "40/40 [==============================] - 0s 4ms/step - loss: 3.2690e-05 - val_loss: 4.3582e-04\n",
      "Epoch 41/100\n",
      "40/40 [==============================] - 0s 4ms/step - loss: 3.7869e-05 - val_loss: 4.4270e-04\n",
      "Epoch 42/100\n",
      "40/40 [==============================] - 0s 4ms/step - loss: 4.2052e-05 - val_loss: 4.5203e-04\n",
      "Epoch 43/100\n",
      "40/40 [==============================] - 0s 4ms/step - loss: 4.8734e-05 - val_loss: 4.2616e-04\n",
      "Epoch 44/100\n",
      "40/40 [==============================] - 0s 4ms/step - loss: 3.5189e-05 - val_loss: 4.2664e-04\n",
      "Epoch 45/100\n",
      "40/40 [==============================] - 0s 4ms/step - loss: 3.0189e-05 - val_loss: 4.2397e-04\n",
      "Epoch 46/100\n",
      "40/40 [==============================] - 0s 4ms/step - loss: 7.3639e-05 - val_loss: 5.8806e-04\n",
      "Epoch 47/100\n",
      "40/40 [==============================] - 0s 4ms/step - loss: 1.1263e-04 - val_loss: 4.5852e-04\n",
      "Epoch 48/100\n",
      "40/40 [==============================] - 0s 4ms/step - loss: 5.0794e-05 - val_loss: 4.4361e-04\n",
      "Epoch 49/100\n",
      "40/40 [==============================] - 0s 5ms/step - loss: 5.9225e-05 - val_loss: 4.9565e-04\n",
      "Epoch 50/100\n",
      "40/40 [==============================] - 0s 4ms/step - loss: 8.2674e-05 - val_loss: 4.4172e-04\n",
      "Epoch 51/100\n",
      "40/40 [==============================] - 0s 4ms/step - loss: 4.1314e-05 - val_loss: 4.3317e-04\n",
      "Epoch 52/100\n",
      "40/40 [==============================] - 0s 4ms/step - loss: 3.4512e-05 - val_loss: 4.2449e-04\n",
      "Epoch 53/100\n",
      "40/40 [==============================] - 0s 5ms/step - loss: 2.7345e-05 - val_loss: 4.2212e-04\n",
      "Epoch 54/100\n",
      "40/40 [==============================] - 0s 3ms/step - loss: 2.6571e-05 - val_loss: 4.1493e-04\n",
      "Epoch 55/100\n",
      "40/40 [==============================] - 0s 4ms/step - loss: 2.3087e-05 - val_loss: 4.2124e-04\n",
      "Epoch 56/100\n",
      "40/40 [==============================] - 0s 4ms/step - loss: 3.8759e-05 - val_loss: 4.5035e-04\n",
      "Epoch 57/100\n",
      "40/40 [==============================] - 0s 4ms/step - loss: 3.8480e-05 - val_loss: 4.1954e-04\n",
      "Epoch 58/100\n",
      "40/40 [==============================] - 0s 3ms/step - loss: 2.5492e-05 - val_loss: 4.2200e-04\n",
      "Epoch 59/100\n",
      "40/40 [==============================] - 0s 4ms/step - loss: 2.7137e-05 - val_loss: 4.1240e-04\n",
      "Epoch 60/100\n",
      "40/40 [==============================] - 0s 5ms/step - loss: 2.4330e-05 - val_loss: 4.1278e-04\n",
      "Epoch 61/100\n",
      "40/40 [==============================] - 0s 5ms/step - loss: 2.6514e-05 - val_loss: 4.1573e-04\n",
      "Epoch 62/100\n",
      "40/40 [==============================] - 0s 5ms/step - loss: 2.2999e-05 - val_loss: 4.1456e-04\n",
      "Epoch 63/100\n",
      "40/40 [==============================] - 0s 4ms/step - loss: 3.0271e-05 - val_loss: 4.2252e-04\n",
      "Epoch 64/100\n",
      "40/40 [==============================] - 0s 4ms/step - loss: 3.7374e-05 - val_loss: 4.3683e-04\n",
      "Epoch 65/100\n",
      "40/40 [==============================] - 0s 4ms/step - loss: 3.9653e-05 - val_loss: 4.3449e-04\n",
      "Epoch 66/100\n",
      "40/40 [==============================] - 0s 4ms/step - loss: 3.5054e-05 - val_loss: 4.1771e-04\n",
      "Epoch 67/100\n",
      "40/40 [==============================] - 0s 4ms/step - loss: 3.1728e-05 - val_loss: 4.1136e-04\n",
      "Epoch 68/100\n",
      "40/40 [==============================] - 0s 4ms/step - loss: 3.3079e-05 - val_loss: 4.1513e-04\n",
      "Epoch 69/100\n",
      "40/40 [==============================] - 0s 5ms/step - loss: 2.4070e-05 - val_loss: 4.1161e-04\n",
      "Epoch 70/100\n",
      "40/40 [==============================] - 0s 4ms/step - loss: 2.6222e-05 - val_loss: 4.1789e-04\n",
      "Epoch 71/100\n",
      "40/40 [==============================] - 0s 5ms/step - loss: 7.0034e-05 - val_loss: 4.7756e-04\n",
      "Epoch 72/100\n",
      "40/40 [==============================] - 0s 4ms/step - loss: 5.7465e-05 - val_loss: 4.2425e-04\n",
      "Epoch 73/100\n",
      "40/40 [==============================] - 0s 3ms/step - loss: 2.8085e-05 - val_loss: 4.2299e-04\n",
      "Epoch 74/100\n",
      "40/40 [==============================] - 0s 5ms/step - loss: 3.7887e-05 - val_loss: 4.1040e-04\n",
      "Epoch 75/100\n",
      "40/40 [==============================] - 0s 5ms/step - loss: 2.9536e-05 - val_loss: 4.1711e-04\n",
      "Epoch 76/100\n",
      "40/40 [==============================] - 0s 3ms/step - loss: 3.3448e-05 - val_loss: 4.2075e-04\n"
     ]
    },
    {
     "name": "stdout",
     "output_type": "stream",
     "text": [
      "Epoch 77/100\n",
      "40/40 [==============================] - 0s 3ms/step - loss: 3.1619e-05 - val_loss: 4.0023e-04\n",
      "Epoch 78/100\n",
      "40/40 [==============================] - 0s 5ms/step - loss: 2.8837e-05 - val_loss: 4.1686e-04\n",
      "Epoch 79/100\n",
      "40/40 [==============================] - 0s 4ms/step - loss: 2.2928e-05 - val_loss: 4.0826e-04\n",
      "Epoch 80/100\n",
      "40/40 [==============================] - 0s 5ms/step - loss: 2.0342e-05 - val_loss: 4.0820e-04\n",
      "Epoch 81/100\n",
      "40/40 [==============================] - 0s 4ms/step - loss: 3.0987e-05 - val_loss: 4.7806e-04\n",
      "Epoch 82/100\n",
      "40/40 [==============================] - 0s 4ms/step - loss: 3.7390e-05 - val_loss: 4.2087e-04\n",
      "Epoch 83/100\n",
      "40/40 [==============================] - 0s 4ms/step - loss: 2.8658e-05 - val_loss: 4.2060e-04\n",
      "Epoch 84/100\n",
      "40/40 [==============================] - 0s 4ms/step - loss: 2.6316e-05 - val_loss: 4.1697e-04\n",
      "Epoch 85/100\n",
      "40/40 [==============================] - 0s 4ms/step - loss: 4.8089e-05 - val_loss: 4.1712e-04\n",
      "Epoch 86/100\n",
      "40/40 [==============================] - 0s 4ms/step - loss: 5.9261e-05 - val_loss: 4.3645e-04\n",
      "Epoch 87/100\n",
      "40/40 [==============================] - 0s 5ms/step - loss: 4.3815e-05 - val_loss: 4.1788e-04\n",
      "Epoch 88/100\n",
      "40/40 [==============================] - 0s 5ms/step - loss: 3.1852e-05 - val_loss: 4.0943e-04\n",
      "Epoch 89/100\n",
      "40/40 [==============================] - 0s 4ms/step - loss: 3.5945e-05 - val_loss: 4.1921e-04\n",
      "Epoch 90/100\n",
      "40/40 [==============================] - 0s 4ms/step - loss: 2.4556e-05 - val_loss: 4.1588e-04\n",
      "Epoch 91/100\n",
      "40/40 [==============================] - 0s 4ms/step - loss: 2.6290e-05 - val_loss: 4.0947e-04\n",
      "Epoch 92/100\n",
      "40/40 [==============================] - 0s 4ms/step - loss: 3.0936e-05 - val_loss: 4.0093e-04\n",
      "Epoch 93/100\n",
      "40/40 [==============================] - 0s 4ms/step - loss: 3.3368e-05 - val_loss: 4.1971e-04\n",
      "Epoch 94/100\n",
      "40/40 [==============================] - 0s 4ms/step - loss: 2.6896e-05 - val_loss: 4.0067e-04\n",
      "Epoch 95/100\n",
      "40/40 [==============================] - 0s 4ms/step - loss: 2.5224e-05 - val_loss: 4.3272e-04\n",
      "Epoch 96/100\n",
      "40/40 [==============================] - 0s 4ms/step - loss: 3.2031e-05 - val_loss: 4.1512e-04\n",
      "Epoch 97/100\n",
      "40/40 [==============================] - 0s 4ms/step - loss: 2.7041e-05 - val_loss: 4.0013e-04\n",
      "Epoch 98/100\n",
      "40/40 [==============================] - 0s 4ms/step - loss: 2.5662e-05 - val_loss: 4.1739e-04\n",
      "Epoch 99/100\n",
      "40/40 [==============================] - 0s 4ms/step - loss: 3.9550e-05 - val_loss: 4.3489e-04\n",
      "Epoch 100/100\n",
      "40/40 [==============================] - 0s 4ms/step - loss: 6.3524e-05 - val_loss: 4.2023e-04\n"
     ]
    }
   ],
   "source": [
    "batch_size = 1000\n",
    "num_epoch = 100\n",
    "output = model_delay.fit(X_delay, y_delay, batch_size = batch_size, epochs=num_epoch, verbose=1,\n",
    "                        validation_data=(X_delay_valid, y_delay_valid))"
   ]
  },
  {
   "cell_type": "code",
   "execution_count": 161,
   "metadata": {},
   "outputs": [
    {
     "data": {
      "text/plain": [
       "<Figure size 432x288 with 0 Axes>"
      ]
     },
     "metadata": {},
     "output_type": "display_data"
    },
    {
     "data": {
      "image/png": "[encoded data removed]",
      "text/plain": [
       "<Figure size 576x360 with 1 Axes>"
      ]
     },
     "metadata": {
      "needs_background": "light"
     },
     "output_type": "display_data"
    }
   ],
   "source": [
    "fig = plt.figure()\n",
    "plt.figure(figsize=(8,5))\n",
    "plt.plot(output.history['loss'])\n",
    "plt.plot(output.history['val_loss'])\n",
    "plt.title('Loss vs Epoch')\n",
    "plt.ylabel('Loss')\n",
    "plt.xlabel('# Epoch')\n",
    "plt.legend(['train', 'test'], loc='upper right')\n",
    "\n",
    "plt.tight_layout()"
   ]
  },
  {
   "cell_type": "markdown",
   "metadata": {},
   "source": [
    "### Model Evaluation"
   ]
  },
  {
   "cell_type": "code",
   "execution_count": 162,
   "metadata": {},
   "outputs": [],
   "source": [
    "X_test_delay = dataset_delay[train_length:,0:input_columns]\n",
    "y_test_delay = dataset_delay[train_length:,input_columns + output_column - 1].reshape(val_length, 1)\n",
    "\n",
    "X_test_delay = scalarX_delay.transform(X_test_delay)\n",
    "y_testpred_delay = model_delay.predict(X_test_delay)\n",
    "y_testpred2_delay = scalarY_delay.inverse_transform(y_testpred_delay)\n",
    "\n",
    "y_trainpred_delay = model_delay.predict(X_delay)\n",
    "y_trainpred2_delay = scalarY_delay.inverse_transform(y_trainpred_delay)\n",
    "\n",
    "y_2_delay = scalarY_delay.inverse_transform(y_delay)"
   ]
  },
  {
   "cell_type": "code",
   "execution_count": 163,
   "metadata": {},
   "outputs": [
    {
     "name": "stdout",
     "output_type": "stream",
     "text": [
      "Train R2 Score for delay_hl_nodebso : 0.9908189592055702\n",
      "Test  R2 Score for delay_hl_nodebso : 0.8564019654609224\n",
      "\n"
     ]
    }
   ],
   "source": [
    "r2_train = r2_score(y_trainpred2_delay, y_2_delay)\n",
    "r2_test = r2_score(y_testpred2_delay, y_test_delay)\n",
    "print(\"Train R2 Score for \"+df_delay.columns[input_columns+output_column - 1]+\" : \"+str(r2_train))\n",
    "print(\"Test  R2 Score for \"+df_delay.columns[input_columns+output_column - 1]+\" : \"+str(r2_test))\n",
    "print()"
   ]
  },
  {
   "cell_type": "code",
   "execution_count": 164,
   "metadata": {},
   "outputs": [
    {
     "name": "stdout",
     "output_type": "stream",
     "text": [
      "Train Error for delay_hl_nodebso : 6.45 %\n"
     ]
    }
   ],
   "source": [
    "sum=0\n",
    "for i in range(train_length):\n",
    "    error = abs(y_trainpred2_delay[i] - y_2_delay[i])/(y_2_delay[i])\n",
    "    sum+=error\n",
    "print(\"Train Error for \"+df_delay.columns[input_columns+output_column-1]+\" : \"+str(int(sum/train_length * 10000)/100) + \" %\")"
   ]
  },
  {
   "cell_type": "code",
   "execution_count": 165,
   "metadata": {},
   "outputs": [
    {
     "name": "stdout",
     "output_type": "stream",
     "text": [
      "Test Error for delay_hl_nodebso : 7.9 %\n"
     ]
    }
   ],
   "source": [
    "sum=0\n",
    "for i in range(val_length):\n",
    "    error = abs(y_testpred2_delay[i] - y_test_delay[i])/(y_test_delay[i])\n",
    "    sum+=error\n",
    "print(\"Test Error for \"+df_delay.columns[input_columns+output_column-1]+\" : \"+str(int(sum/val_length * 10000)/100) + \" %\")"
   ]
  },
  {
   "cell_type": "code",
   "execution_count": 92,
   "metadata": {},
   "outputs": [
    {
     "name": "stdout",
     "output_type": "stream",
     "text": [
      "Predicted Output: 2.252045e-11\n",
      "Expected Output: 2.2999999999999998e-11\n"
     ]
    }
   ],
   "source": [
    "random_input_testing = np.array(random_input_testing_value)\n",
    "random_input_testing = random_input_testing.reshape(1, input_columns)\n",
    "random_input_testing = scalarX_delay.transform(random_input_testing)\n",
    "random_output_testing = model_delay.predict(random_input_testing)\n",
    "random_output_testing_rescaled = scalarY_delay.inverse_transform(random_output_testing)\n",
    "print(\"Predicted Output:\", random_output_testing_rescaled[0][0])\n",
    "print(\"Expected Output:\", random_output_expected[0])"
   ]
  },
  {
   "cell_type": "markdown",
   "metadata": {},
   "source": [
    "### Saving the model"
   ]
  },
  {
   "cell_type": "code",
   "execution_count": 64,
   "metadata": {},
   "outputs": [
    {
     "name": "stdout",
     "output_type": "stream",
     "text": [
      "Do you want to store this model?? Enter 1 for Yes and 0 for No: 1\n",
      "Enter train accuracy rounded to the nearest integer: 99\n",
      "Enter validation accuracy rounded to the nearest integer: 97\n",
      "Saved model to disk\n"
     ]
    }
   ],
   "source": [
    "choice = int(input(\"Do you want to store this model?? Enter 1 for Yes and 0 for No: \"))\n",
    "if(choice == 1):\n",
    "  \n",
    "    acc_tr = int(input(\"Enter train accuracy rounded to the nearest integer: \"))\n",
    "    acc_va = int(input(\"Enter validation accuracy rounded to the nearest integer: \"))\n",
    "    file_name = './models/model_' + str(output_column) + \"_\" + str(acc_tr) + \"_\" + str(acc_va)\n",
    "\n",
    "    # Save the model\n",
    "    # serialize model to JSON\n",
    "    model_json = model_delay.to_json()\n",
    "    with open(file_name + \".json\", \"w\") as json_file:\n",
    "          json_file.write(model_json)\n",
    "    # serialize weights to HDF5\n",
    "    model_delay.save_weights(file_name +\".h5\")\n",
    "    print(\"Saved model to disk\")"
   ]
  }
 ],
 "metadata": {
  "kernelspec": {
   "display_name": "Python 3",
   "language": "python",
   "name": "python3"
  },
  "language_info": {
   "codemirror_mode": {
    "name": "ipython",
    "version": 3
   },
   "file_extension": ".py",
   "mimetype": "text/x-python",
   "name": "python",
   "nbconvert_exporter": "python",
   "pygments_lexer": "ipython3",
   "version": "3.8.5"
  }
 },
 "nbformat": 4,
 "nbformat_minor": 4
}
